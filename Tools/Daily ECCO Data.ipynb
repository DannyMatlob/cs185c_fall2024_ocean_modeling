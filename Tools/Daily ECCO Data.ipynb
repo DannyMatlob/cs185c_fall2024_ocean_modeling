{
 "cells": [
  {
   "cell_type": "markdown",
   "id": "34989e05-15a5-4759-9930-54d255ed56ff",
   "metadata": {},
   "source": [
    "# Downloading ECCO Data\n",
    "\n",
    "Author: Mike Wood\n",
    "\n",
    "This notebook is designed to download ECCO data from the [ECCO Drive](https://ecco.jpl.nasa.gov/drive/).\n",
    "\n",
    "Note that you must have a [NASA Earthdata](https://www.earthdata.nasa.gov/) account. If you don't already have one, be sure to make one before using this notebook.\n",
    "\n",
    "When you first navigate to the [ECCO Drive](https://ecco.jpl.nasa.gov/drive/), you will be directed to a page with your WebDAV/Programmatic API credentials - these will be used when prompted for your credentials below.\n",
    "\n",
    "#### Import the modules for this notebook"
   ]
  },
  {
   "cell_type": "code",
   "execution_count": 1,
   "id": "3cb9f554-076d-4cf0-91cb-a6d7b2a79b71",
   "metadata": {},
   "outputs": [],
   "source": [
    "import requests\n",
    "from requests.auth import HTTPBasicAuth\n",
    "import os"
   ]
  },
  {
   "cell_type": "markdown",
   "id": "c1c8b363-a895-4915-8d2e-99ce04b1e3b6",
   "metadata": {},
   "source": [
    "#### Define the destination file path"
   ]
  },
  {
   "cell_type": "code",
   "execution_count": 2,
   "id": "67398b75-f002-4f0b-aca3-30b7eeefca33",
   "metadata": {},
   "outputs": [],
   "source": [
    "# define the path to the folder where the data will be downloaded\n",
    "download_folder = 'D:\\data\\ECCO'"
   ]
  },
  {
   "cell_type": "markdown",
   "id": "3d5c73e1-42e2-4085-ac47-1762a41b4fba",
   "metadata": {},
   "source": [
    "#### Define the data request"
   ]
  },
  {
   "cell_type": "code",
   "execution_count": 3,
   "id": "65124b03-4801-4afd-9d55-4e51fdeac935",
   "metadata": {},
   "outputs": [],
   "source": [
    "# choose an ECCO version and release\n",
    "version = 'Version5' #e.g. Version4\n",
    "release = 'Alpha' #e.g. Release4\n",
    "\n",
    "# choose a subset\n",
    "subset = 'latlon_daily' #e.g. interp_monthly\n",
    "\n",
    "# choose the variable to download\n",
    "var_name = 'SST' # e.g. SSHDYN\n",
    "\n",
    "# choose a start year and end year (in range 1992-2017)\n",
    "start_year = 2015\n",
    "end_year = 2015"
   ]
  },
  {
   "cell_type": "markdown",
   "id": "1cdc1404-0fc7-4a17-8c1d-10b7a9c2da73",
   "metadata": {},
   "source": [
    "#### Make a list of file paths\n",
    "Nothing to do here - just run this cell to generate the list."
   ]
  },
  {
   "cell_type": "code",
   "execution_count": 4,
   "id": "e1033587-6ec6-4689-a70e-2072a45236f3",
   "metadata": {},
   "outputs": [],
   "source": [
    "# define the base url\n",
    "base_url = 'https://ecco.jpl.nasa.gov/drive/files/'+version+'/'+release+'/'+subset+'/'+var_name+'.nc'\n",
    "file_urls = []\n",
    "for year in range(start_year,end_year+1):\n",
    "    for month in range(1,13):\n",
    "        yr = str(year)\n",
    "        mo = '{:02d}'.format(month)\n",
    "        n_days = 0\n",
    "        if month in [1,3,5,7,8,10,12]:\n",
    "            n_days = 31\n",
    "        elif month in [4,6,9,11]:\n",
    "            n_days = 30\n",
    "        else:\n",
    "            if year%4==0:\n",
    "                n_days = 29\n",
    "            else:\n",
    "                n_days = 28\n",
    "        for day in range(1, n_days+1):\n",
    "            d = '{:02d}'.format(day)\n",
    "            file_name = var_name+'_'+yr+mo+d+'.nc'\n",
    "            file_urls.append(base_url+'/'+file_name)"
   ]
  },
  {
   "cell_type": "markdown",
   "id": "85042999-7368-410c-9426-167e894959e9",
   "metadata": {},
   "source": [
    "#### Download the data"
   ]
  },
  {
   "cell_type": "code",
   "execution_count": null,
   "id": "19c0e188-105c-4578-8cb8-459a2d70848c",
   "metadata": {},
   "outputs": [
    {
     "name": "stdout",
     "output_type": "stream",
     "text": [
      "Downloading SST_20150101.nc (file 1 of 365)\n",
      "Downloading SST_20150102.nc (file 2 of 365)\n",
      "Downloading SST_20150103.nc (file 3 of 365)\n",
      "Downloading SST_20150104.nc (file 4 of 365)\n",
      "Downloading SST_20150105.nc (file 5 of 365)\n",
      "Downloading SST_20150106.nc (file 6 of 365)\n",
      "Downloading SST_20150107.nc (file 7 of 365)\n",
      "Downloading SST_20150108.nc (file 8 of 365)\n",
      "Downloading SST_20150109.nc (file 9 of 365)\n",
      "Downloading SST_20150110.nc (file 10 of 365)\n",
      "Downloading SST_20150111.nc (file 11 of 365)\n",
      "Downloading SST_20150112.nc (file 12 of 365)\n",
      "Downloading SST_20150113.nc (file 13 of 365)\n",
      "Downloading SST_20150114.nc (file 14 of 365)\n",
      "Downloading SST_20150115.nc (file 15 of 365)\n",
      "Downloading SST_20150116.nc (file 16 of 365)\n",
      "Downloading SST_20150117.nc (file 17 of 365)\n",
      "Downloading SST_20150118.nc (file 18 of 365)\n",
      "Downloading SST_20150119.nc (file 19 of 365)\n",
      "Downloading SST_20150120.nc (file 20 of 365)\n",
      "Downloading SST_20150121.nc (file 21 of 365)\n",
      "Downloading SST_20150122.nc (file 22 of 365)\n",
      "Downloading SST_20150123.nc (file 23 of 365)\n",
      "Downloading SST_20150124.nc (file 24 of 365)\n",
      "Downloading SST_20150125.nc (file 25 of 365)\n",
      "Downloading SST_20150126.nc (file 26 of 365)\n",
      "Downloading SST_20150127.nc (file 27 of 365)\n",
      "Downloading SST_20150128.nc (file 28 of 365)\n",
      "Downloading SST_20150129.nc (file 29 of 365)\n",
      "Downloading SST_20150130.nc (file 30 of 365)\n",
      "Downloading SST_20150131.nc (file 31 of 365)\n",
      "Downloading SST_20150201.nc (file 32 of 365)\n",
      "Downloading SST_20150202.nc (file 33 of 365)\n",
      "Downloading SST_20150203.nc (file 34 of 365)\n",
      "Downloading SST_20150204.nc (file 35 of 365)\n",
      "Downloading SST_20150205.nc (file 36 of 365)\n",
      "Downloading SST_20150206.nc (file 37 of 365)\n",
      "Downloading SST_20150207.nc (file 38 of 365)\n",
      "Downloading SST_20150208.nc (file 39 of 365)\n",
      "Downloading SST_20150209.nc (file 40 of 365)\n",
      "Downloading SST_20150210.nc (file 41 of 365)\n",
      "Downloading SST_20150211.nc (file 42 of 365)\n",
      "Downloading SST_20150212.nc (file 43 of 365)\n",
      "Downloading SST_20150213.nc (file 44 of 365)\n",
      "Downloading SST_20150214.nc (file 45 of 365)\n",
      "Downloading SST_20150215.nc (file 46 of 365)\n",
      "Downloading SST_20150216.nc (file 47 of 365)\n",
      "Downloading SST_20150217.nc (file 48 of 365)\n",
      "Downloading SST_20150218.nc (file 49 of 365)\n",
      "Downloading SST_20150219.nc (file 50 of 365)\n",
      "Downloading SST_20150220.nc (file 51 of 365)\n",
      "Downloading SST_20150221.nc (file 52 of 365)\n",
      "Downloading SST_20150222.nc (file 53 of 365)\n",
      "Downloading SST_20150223.nc (file 54 of 365)\n",
      "Downloading SST_20150224.nc (file 55 of 365)\n",
      "Downloading SST_20150225.nc (file 56 of 365)\n",
      "Downloading SST_20150226.nc (file 57 of 365)\n",
      "Downloading SST_20150227.nc (file 58 of 365)\n",
      "Downloading SST_20150228.nc (file 59 of 365)\n",
      "Downloading SST_20150301.nc (file 60 of 365)\n",
      "Downloading SST_20150302.nc (file 61 of 365)\n",
      "Downloading SST_20150303.nc (file 62 of 365)\n",
      "Downloading SST_20150304.nc (file 63 of 365)\n",
      "Downloading SST_20150305.nc (file 64 of 365)\n",
      "Downloading SST_20150306.nc (file 65 of 365)\n",
      "Downloading SST_20150307.nc (file 66 of 365)\n",
      "Downloading SST_20150308.nc (file 67 of 365)\n",
      "Downloading SST_20150309.nc (file 68 of 365)\n",
      "Downloading SST_20150310.nc (file 69 of 365)\n",
      "Downloading SST_20150311.nc (file 70 of 365)\n",
      "Downloading SST_20150312.nc (file 71 of 365)\n",
      "Downloading SST_20150313.nc (file 72 of 365)\n"
     ]
    }
   ],
   "source": [
    "username = 'jawblado'\n",
    "password = '8PhZ#FH15Z0FIh5@6y3'\n",
    "\n",
    "# check that all of the subdirectories are created\n",
    "if version not in os.listdir(download_folder):\n",
    "    os.mkdir(os.path.join(download_folder,version))\n",
    "if release not in os.listdir(os.path.join(download_folder,version)):\n",
    "    os.mkdir(os.path.join(download_folder,version,release))\n",
    "if subset not in os.listdir(os.path.join(download_folder,version,release)):\n",
    "    os.mkdir(os.path.join(download_folder,version,release,subset))\n",
    "if var_name not in os.listdir(os.path.join(download_folder,version,release,subset)):\n",
    "    os.mkdir(os.path.join(download_folder,version,release,subset,var_name))\n",
    "\n",
    "# download all of the data\n",
    "for i in range(len(file_urls)):\n",
    "    url = file_urls[i]\n",
    "    file_name = url.split('/')[-1]\n",
    "    if file_name not in os.listdir(os.path.join(download_folder,version,release,subset,var_name)):\n",
    "        print('Downloading '+file_name+' (file '+str(i+1)+' of '+str(len(file_urls))+')')\n",
    "        output_file = os.path.join(download_folder,version,release,subset,var_name,file_name)\n",
    "        with requests.get(url, stream=True, allow_redirects=True, auth=HTTPBasicAuth(username, password)) as r:\n",
    "            r.raise_for_status()\n",
    "            with open(output_file, 'wb') as f:                   \n",
    "                for chunk in r.iter_content(chunk_size=8192):   \n",
    "                    f.write(chunk)"
   ]
  },
  {
   "cell_type": "markdown",
   "id": "41ad2087-807f-49c4-98af-1b4c05aa2209",
   "metadata": {},
   "source": [
    "Note: if the above cell fails before the download is complete, try re-running - often the API will reject downloads when there are too many pings in a given time interval."
   ]
  }
 ],
 "metadata": {
  "kernelspec": {
   "display_name": "cs185c",
   "language": "python",
   "name": "cs185c"
  },
  "language_info": {
   "codemirror_mode": {
    "name": "ipython",
    "version": 3
   },
   "file_extension": ".py",
   "mimetype": "text/x-python",
   "name": "python",
   "nbconvert_exporter": "python",
   "pygments_lexer": "ipython3",
   "version": "3.11.9"
  }
 },
 "nbformat": 4,
 "nbformat_minor": 5
}
