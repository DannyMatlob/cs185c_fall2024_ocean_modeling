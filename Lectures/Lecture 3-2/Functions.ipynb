{
 "cells": [
  {
   "cell_type": "markdown",
   "id": "49e61e1c",
   "metadata": {},
   "source": [
    "# Functions"
   ]
  },
  {
   "cell_type": "markdown",
   "id": "0c3a7daa-0a0a-481c-974f-6acd970606db",
   "metadata": {},
   "source": [
    "This notebook provides an overview of how to define a Python function with one or more arguments that returns one or more objects"
   ]
  },
  {
   "cell_type": "markdown",
   "id": "0d4b0f71",
   "metadata": {},
   "source": [
    "## Defining Functions"
   ]
  },
  {
   "cell_type": "markdown",
   "id": "acf1e5a8",
   "metadata": {},
   "source": [
    "Functions in Python start with the keyword `def` and follow a similar syntax to other code blocks we have seen in Python so far - they use the typical colon and indentation formatting."
   ]
  },
  {
   "cell_type": "code",
   "execution_count": null,
   "id": "58d5c54f",
   "metadata": {},
   "outputs": [],
   "source": [
    "# write a simple function to describe the weather\n"
   ]
  },
  {
   "cell_type": "markdown",
   "id": "7a31ef7e-2b8c-4a88-8f81-f94d47158bb2",
   "metadata": {},
   "source": [
    "From the above code block, we can observe 3 things:\n",
    "- Functions do not need to be defined with input arguments\n",
    "- Functions do not need to have to return objects\n",
    "- Functions are not run when they are defined - they must be called to be run"
   ]
  },
  {
   "cell_type": "code",
   "execution_count": null,
   "id": "328de8a3-4bb9-4da2-9fdb-64f4ec8489dc",
   "metadata": {},
   "outputs": [],
   "source": [
    "# call the weather report function\n"
   ]
  },
  {
   "cell_type": "markdown",
   "id": "bf25d05e-ba6c-44c3-8301-e6ab30303c1f",
   "metadata": {},
   "source": [
    "There is a lot of flexibility in how function in Python can be defined. For example, we may choose to define input arguments and implement code blocks within our function:"
   ]
  },
  {
   "cell_type": "code",
   "execution_count": null,
   "id": "5723662f-10c2-4913-becf-70ba70ed34a8",
   "metadata": {},
   "outputs": [],
   "source": [
    "# update the weather report function to include an input argument for temperature\n",
    "\n",
    "\n",
    "# call the function to view its output\n",
    "\n",
    "\n",
    "# call the function again by explicitly calling the input parameter\n"
   ]
  },
  {
   "cell_type": "markdown",
   "id": "59f122fc-da09-426a-8153-5d5c8f831c99",
   "metadata": {},
   "source": [
    "We can also define optional arguments that are given a default value. These default values may be changed by the function user, if desired."
   ]
  },
  {
   "cell_type": "code",
   "execution_count": null,
   "id": "0287736e-c410-40ed-8a59-c4202dacce7c",
   "metadata": {},
   "outputs": [],
   "source": [
    "# update the weather report function to include an optional input argument\n",
    "# to convert the temperature to celsius\n",
    "\n",
    "\n",
    "# call the function to view its output\n",
    "\n",
    "\n",
    "# call the function again, this time converting to celsius\n",
    "\n"
   ]
  },
  {
   "cell_type": "markdown",
   "id": "5abcea6d-e87d-4f99-980d-f95a5884899d",
   "metadata": {},
   "source": [
    "All functions in Python have an output object. If its not defined, then the value is None. For example: "
   ]
  },
  {
   "cell_type": "code",
   "execution_count": null,
   "id": "e0b481bb-ec7b-4e92-b492-7bbaa8fd9a0e",
   "metadata": {},
   "outputs": [],
   "source": [
    "# assign the output of the weather report function to a variable\n",
    "\n",
    "\n",
    "# print the variable\n"
   ]
  },
  {
   "cell_type": "markdown",
   "id": "e7b69599-a87d-42a2-bad5-96156832bb4d",
   "metadata": {},
   "source": [
    "Often, we would like our functions to return a given statement or other output rather than just printing something to the screen. In this case, we can use the `return` keyword."
   ]
  },
  {
   "cell_type": "code",
   "execution_count": null,
   "id": "6a2b6022-4b1c-45ff-a8f4-8b4720a1ca2a",
   "metadata": {},
   "outputs": [],
   "source": [
    "# update the weather report function to output the statement\n",
    "# instead of printing it\n",
    "\n",
    "\n",
    "# store the output of weather_report into a variable called report\n",
    "\n"
   ]
  },
  {
   "cell_type": "markdown",
   "id": "d540ddeb-6fa9-47b0-a35f-b72da7b7fa89",
   "metadata": {},
   "source": [
    "When defined with an output, we can print the statement when desired:"
   ]
  },
  {
   "cell_type": "code",
   "execution_count": null,
   "id": "571d425e-1e7d-424b-8b6c-8f203f79d028",
   "metadata": {},
   "outputs": [],
   "source": [
    "# now print the report variable\n"
   ]
  },
  {
   "cell_type": "markdown",
   "id": "a0e14d68",
   "metadata": {},
   "source": [
    "### &#x1F914; Mini-Exercise\n",
    "Goal: Define a function called `convert_miles` to convert miles to kilometers. Provide an optional keyword that allows the user to convert to meters instead of kilometers. There are 6.2 miles in 10 kilometers and 1000 meters in 1 kilometer."
   ]
  },
  {
   "cell_type": "code",
   "execution_count": null,
   "id": "1e4d0d96-784a-4b66-89c0-fb2b76178dc5",
   "metadata": {},
   "outputs": [],
   "source": [
    "# define the convert_miles function\n",
    "\n",
    "\n",
    "# test your function with 3.1 miles (should return 5)\n",
    "\n",
    "\n",
    "# test your function with 9.3 miles and the optional parameter to return meters (should return 15000)\n"
   ]
  }
 ],
 "metadata": {
  "kernelspec": {
   "display_name": "teaching",
   "language": "python",
   "name": "teaching"
  },
  "language_info": {
   "codemirror_mode": {
    "name": "ipython",
    "version": 3
   },
   "file_extension": ".py",
   "mimetype": "text/x-python",
   "name": "python",
   "nbconvert_exporter": "python",
   "pygments_lexer": "ipython3",
   "version": "3.11.3"
  }
 },
 "nbformat": 4,
 "nbformat_minor": 5
}
