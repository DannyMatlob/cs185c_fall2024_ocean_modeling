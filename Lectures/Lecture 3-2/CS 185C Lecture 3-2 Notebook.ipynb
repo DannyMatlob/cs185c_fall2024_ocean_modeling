{
 "cells": [
  {
   "cell_type": "markdown",
   "id": "bb5b1db9-ca21-4321-832a-3897a594c7ab",
   "metadata": {},
   "source": [
    "# Visualizing Model Output - Part 2\n",
    "\n",
    "#### Overview\n",
    "In this notebook, we will continue looking at ways to visualize ocean model output. As in previous lessons, we will use output from the ECCO Ocean State Estimate (Version 5).\n",
    "\n",
    "#### Import Modules\n",
    "First, import the modules required to access data from netCDF files and create plots:"
   ]
  },
  {
   "cell_type": "code",
   "execution_count": 2,
   "id": "abc63303-5d4e-48c5-a57e-7d4fd605cc41",
   "metadata": {},
   "outputs": [],
   "source": [
    "import os\n",
    "import numpy as np\n",
    "import matplotlib.pyplot as plt\n",
    "import xarray as xr\n",
    "import cartopy.crs as ccrs\n",
    "import cartopy.feature as cfeature\n",
    "# import cmocean.cm as cm"
   ]
  },
  {
   "cell_type": "markdown",
   "id": "cca1aada",
   "metadata": {},
   "source": [
    "### Defining the data path\n",
    "As in the previous lesson, we will use data stored on our external drive. Begin by defining the path to your data folder:"
   ]
  },
  {
   "cell_type": "code",
   "execution_count": 3,
   "id": "6db8003a-6d1d-4897-bb51-33e1334d288c",
   "metadata": {},
   "outputs": [],
   "source": [
    "# Define a path to a data folder\n",
    "data_folder = 'D:\\data'"
   ]
  },
  {
   "cell_type": "markdown",
   "id": "987b30e7-bf10-4fda-9abe-41795e638d1a",
   "metadata": {},
   "source": [
    "## Download Daily Data\n",
    "Following the steps established in Lecture 3-1, start by downloading all of the daily sea surface temperature data:\n",
    "\n",
    "```\n",
    "version = 'Version4'\n",
    "release = 'Release4'\n",
    "subset = 'interp_monthly'\n",
    "var_name = 'SIarea'\n",
    "start_year = 2015\n",
    "end_year = 2015\n",
    "```"
   ]
  },
  {
   "cell_type": "markdown",
   "id": "d1b66fb3-a486-43f4-b99a-f77e244bbb3f",
   "metadata": {},
   "source": [
    "In previous notebooks, we've plotted our data in longitude-latitude coordinates. Let's take a first look at some of the sea ice data by making a quick plot:"
   ]
  },
  {
   "cell_type": "code",
   "execution_count": 14,
   "id": "92162376",
   "metadata": {},
   "outputs": [],
   "source": [
    "# make a path to a sea ice file\n",
    "seaice_file = os.path.join(data_folder,'ECCO','Version4','Release4',\n",
    "                          'interp_monthly','SIarea','SIarea_2015_01.nc')\n",
    "\n",
    "# read in the sea ice data at along with the\n",
    "# latitude and longitude information \n",
    "ds = xr.open_dataset(seaice_file)\n",
    "longitude = np.array(ds['longitude'][:])\n",
    "latitude = np.array(ds['latitude'][:])\n",
    "SIarea = np.array(ds['SIarea'][:])\n",
    "ds.close()\n",
    "\n",
    "# subset sea ice to the first time step\n",
    "SIarea_sub = SIarea[0, : , :]"
   ]
  },
  {
   "cell_type": "markdown",
   "id": "d24df19e-d563-4297-a0ae-a4b32f40cac9",
   "metadata": {},
   "source": [
    "If we plot the sea ice field as we did in lessons 2-1 and 2-2, we see a map that looks roughly like the globe:"
   ]
  },
  {
   "cell_type": "code",
   "execution_count": 15,
   "id": "0c3e090f-cd91-4507-be4c-4003f01276e5",
   "metadata": {},
   "outputs": [
    {
     "ename": "ValueError",
     "evalue": "Axes should be an instance of GeoAxes, got <class 'matplotlib.axes._axes.Axes'>",
     "output_type": "error",
     "traceback": [
      "\u001b[1;31m---------------------------------------------------------------------------\u001b[0m",
      "\u001b[1;31mValueError\u001b[0m                                Traceback (most recent call last)",
      "Cell \u001b[1;32mIn[15], line 5\u001b[0m\n\u001b[0;32m      2\u001b[0m fig \u001b[38;5;241m=\u001b[39m plt\u001b[38;5;241m.\u001b[39mfigure()\n\u001b[0;32m      4\u001b[0m \u001b[38;5;66;03m# plot the temperature\u001b[39;00m\n\u001b[1;32m----> 5\u001b[0m plt\u001b[38;5;241m.\u001b[39mpcolormesh(longitude, latitude, SIarea_sub, vmin\u001b[38;5;241m=\u001b[39m\u001b[38;5;241m0\u001b[39m, vmax\u001b[38;5;241m=\u001b[39m\u001b[38;5;241m1\u001b[39m, cmap\u001b[38;5;241m=\u001b[39m\u001b[38;5;124m\"\u001b[39m\u001b[38;5;124mbone\u001b[39m\u001b[38;5;124m\"\u001b[39m, transform\u001b[38;5;241m=\u001b[39mccrs\u001b[38;5;241m.\u001b[39mPlateCarree())\n\u001b[0;32m      6\u001b[0m plt\u001b[38;5;241m.\u001b[39mcolorbar(orientation \u001b[38;5;241m=\u001b[39m \u001b[38;5;124m'\u001b[39m\u001b[38;5;124mhorizontal\u001b[39m\u001b[38;5;124m'\u001b[39m)\n\u001b[0;32m      8\u001b[0m \u001b[38;5;66;03m# format the axes\u001b[39;00m\n",
      "File \u001b[1;32m~\\miniconda3\\envs\\cs185c\\Lib\\site-packages\\matplotlib\\pyplot.py:3493\u001b[0m, in \u001b[0;36mpcolormesh\u001b[1;34m(alpha, norm, cmap, vmin, vmax, shading, antialiased, data, *args, **kwargs)\u001b[0m\n\u001b[0;32m   3480\u001b[0m \u001b[38;5;129m@_copy_docstring_and_deprecators\u001b[39m(Axes\u001b[38;5;241m.\u001b[39mpcolormesh)\n\u001b[0;32m   3481\u001b[0m \u001b[38;5;28;01mdef\u001b[39;00m \u001b[38;5;21mpcolormesh\u001b[39m(\n\u001b[0;32m   3482\u001b[0m     \u001b[38;5;241m*\u001b[39margs: ArrayLike,\n\u001b[1;32m   (...)\u001b[0m\n\u001b[0;32m   3491\u001b[0m     \u001b[38;5;241m*\u001b[39m\u001b[38;5;241m*\u001b[39mkwargs,\n\u001b[0;32m   3492\u001b[0m ) \u001b[38;5;241m-\u001b[39m\u001b[38;5;241m>\u001b[39m QuadMesh:\n\u001b[1;32m-> 3493\u001b[0m     __ret \u001b[38;5;241m=\u001b[39m gca()\u001b[38;5;241m.\u001b[39mpcolormesh(\n\u001b[0;32m   3494\u001b[0m         \u001b[38;5;241m*\u001b[39margs,\n\u001b[0;32m   3495\u001b[0m         alpha\u001b[38;5;241m=\u001b[39malpha,\n\u001b[0;32m   3496\u001b[0m         norm\u001b[38;5;241m=\u001b[39mnorm,\n\u001b[0;32m   3497\u001b[0m         cmap\u001b[38;5;241m=\u001b[39mcmap,\n\u001b[0;32m   3498\u001b[0m         vmin\u001b[38;5;241m=\u001b[39mvmin,\n\u001b[0;32m   3499\u001b[0m         vmax\u001b[38;5;241m=\u001b[39mvmax,\n\u001b[0;32m   3500\u001b[0m         shading\u001b[38;5;241m=\u001b[39mshading,\n\u001b[0;32m   3501\u001b[0m         antialiased\u001b[38;5;241m=\u001b[39mantialiased,\n\u001b[0;32m   3502\u001b[0m         \u001b[38;5;241m*\u001b[39m\u001b[38;5;241m*\u001b[39m({\u001b[38;5;124m\"\u001b[39m\u001b[38;5;124mdata\u001b[39m\u001b[38;5;124m\"\u001b[39m: data} \u001b[38;5;28;01mif\u001b[39;00m data \u001b[38;5;129;01mis\u001b[39;00m \u001b[38;5;129;01mnot\u001b[39;00m \u001b[38;5;28;01mNone\u001b[39;00m \u001b[38;5;28;01melse\u001b[39;00m {}),\n\u001b[0;32m   3503\u001b[0m         \u001b[38;5;241m*\u001b[39m\u001b[38;5;241m*\u001b[39mkwargs,\n\u001b[0;32m   3504\u001b[0m     )\n\u001b[0;32m   3505\u001b[0m     sci(__ret)\n\u001b[0;32m   3506\u001b[0m     \u001b[38;5;28;01mreturn\u001b[39;00m __ret\n",
      "File \u001b[1;32m~\\miniconda3\\envs\\cs185c\\Lib\\site-packages\\matplotlib\\__init__.py:1465\u001b[0m, in \u001b[0;36m_preprocess_data.<locals>.inner\u001b[1;34m(ax, data, *args, **kwargs)\u001b[0m\n\u001b[0;32m   1462\u001b[0m \u001b[38;5;129m@functools\u001b[39m\u001b[38;5;241m.\u001b[39mwraps(func)\n\u001b[0;32m   1463\u001b[0m \u001b[38;5;28;01mdef\u001b[39;00m \u001b[38;5;21minner\u001b[39m(ax, \u001b[38;5;241m*\u001b[39margs, data\u001b[38;5;241m=\u001b[39m\u001b[38;5;28;01mNone\u001b[39;00m, \u001b[38;5;241m*\u001b[39m\u001b[38;5;241m*\u001b[39mkwargs):\n\u001b[0;32m   1464\u001b[0m     \u001b[38;5;28;01mif\u001b[39;00m data \u001b[38;5;129;01mis\u001b[39;00m \u001b[38;5;28;01mNone\u001b[39;00m:\n\u001b[1;32m-> 1465\u001b[0m         \u001b[38;5;28;01mreturn\u001b[39;00m func(ax, \u001b[38;5;241m*\u001b[39m\u001b[38;5;28mmap\u001b[39m(sanitize_sequence, args), \u001b[38;5;241m*\u001b[39m\u001b[38;5;241m*\u001b[39mkwargs)\n\u001b[0;32m   1467\u001b[0m     bound \u001b[38;5;241m=\u001b[39m new_sig\u001b[38;5;241m.\u001b[39mbind(ax, \u001b[38;5;241m*\u001b[39margs, \u001b[38;5;241m*\u001b[39m\u001b[38;5;241m*\u001b[39mkwargs)\n\u001b[0;32m   1468\u001b[0m     auto_label \u001b[38;5;241m=\u001b[39m (bound\u001b[38;5;241m.\u001b[39marguments\u001b[38;5;241m.\u001b[39mget(label_namer)\n\u001b[0;32m   1469\u001b[0m                   \u001b[38;5;129;01mor\u001b[39;00m bound\u001b[38;5;241m.\u001b[39mkwargs\u001b[38;5;241m.\u001b[39mget(label_namer))\n",
      "File \u001b[1;32m~\\miniconda3\\envs\\cs185c\\Lib\\site-packages\\matplotlib\\axes\\_axes.py:6309\u001b[0m, in \u001b[0;36mAxes.pcolormesh\u001b[1;34m(self, alpha, norm, cmap, vmin, vmax, shading, antialiased, *args, **kwargs)\u001b[0m\n\u001b[0;32m   6306\u001b[0m t \u001b[38;5;241m=\u001b[39m collection\u001b[38;5;241m.\u001b[39m_transform\n\u001b[0;32m   6307\u001b[0m \u001b[38;5;28;01mif\u001b[39;00m (\u001b[38;5;129;01mnot\u001b[39;00m \u001b[38;5;28misinstance\u001b[39m(t, mtransforms\u001b[38;5;241m.\u001b[39mTransform) \u001b[38;5;129;01mand\u001b[39;00m\n\u001b[0;32m   6308\u001b[0m         \u001b[38;5;28mhasattr\u001b[39m(t, \u001b[38;5;124m'\u001b[39m\u001b[38;5;124m_as_mpl_transform\u001b[39m\u001b[38;5;124m'\u001b[39m)):\n\u001b[1;32m-> 6309\u001b[0m     t \u001b[38;5;241m=\u001b[39m t\u001b[38;5;241m.\u001b[39m_as_mpl_transform(\u001b[38;5;28mself\u001b[39m\u001b[38;5;241m.\u001b[39maxes)\n\u001b[0;32m   6311\u001b[0m \u001b[38;5;28;01mif\u001b[39;00m t \u001b[38;5;129;01mand\u001b[39;00m \u001b[38;5;28many\u001b[39m(t\u001b[38;5;241m.\u001b[39mcontains_branch_seperately(\u001b[38;5;28mself\u001b[39m\u001b[38;5;241m.\u001b[39mtransData)):\n\u001b[0;32m   6312\u001b[0m     trans_to_data \u001b[38;5;241m=\u001b[39m t \u001b[38;5;241m-\u001b[39m \u001b[38;5;28mself\u001b[39m\u001b[38;5;241m.\u001b[39mtransData\n",
      "File \u001b[1;32m~\\miniconda3\\envs\\cs185c\\Lib\\site-packages\\cartopy\\crs.py:259\u001b[0m, in \u001b[0;36mCRS._as_mpl_transform\u001b[1;34m(self, axes)\u001b[0m\n\u001b[0;32m    257\u001b[0m \u001b[38;5;28;01mimport\u001b[39;00m \u001b[38;5;21;01mcartopy\u001b[39;00m\u001b[38;5;21;01m.\u001b[39;00m\u001b[38;5;21;01mmpl\u001b[39;00m\u001b[38;5;21;01m.\u001b[39;00m\u001b[38;5;21;01mgeoaxes\u001b[39;00m \u001b[38;5;28;01mas\u001b[39;00m \u001b[38;5;21;01mgeoaxes\u001b[39;00m\n\u001b[0;32m    258\u001b[0m \u001b[38;5;28;01mif\u001b[39;00m \u001b[38;5;129;01mnot\u001b[39;00m \u001b[38;5;28misinstance\u001b[39m(axes, geoaxes\u001b[38;5;241m.\u001b[39mGeoAxes):\n\u001b[1;32m--> 259\u001b[0m     \u001b[38;5;28;01mraise\u001b[39;00m \u001b[38;5;167;01mValueError\u001b[39;00m(\n\u001b[0;32m    260\u001b[0m         \u001b[38;5;124m'\u001b[39m\u001b[38;5;124mAxes should be an instance of GeoAxes, got \u001b[39m\u001b[38;5;132;01m%s\u001b[39;00m\u001b[38;5;124m'\u001b[39m \u001b[38;5;241m%\u001b[39m \u001b[38;5;28mtype\u001b[39m(axes)\n\u001b[0;32m    261\u001b[0m     )\n\u001b[0;32m    262\u001b[0m \u001b[38;5;28;01mreturn\u001b[39;00m (\n\u001b[0;32m    263\u001b[0m     geoaxes\u001b[38;5;241m.\u001b[39mInterProjectionTransform(\u001b[38;5;28mself\u001b[39m, axes\u001b[38;5;241m.\u001b[39mprojection) \u001b[38;5;241m+\u001b[39m\n\u001b[0;32m    264\u001b[0m     axes\u001b[38;5;241m.\u001b[39mtransData\n\u001b[0;32m    265\u001b[0m )\n",
      "\u001b[1;31mValueError\u001b[0m: Axes should be an instance of GeoAxes, got <class 'matplotlib.axes._axes.Axes'>"
     ]
    },
    {
     "data": {
      "image/png": "[encoded data removed]",
      "text/plain": [
       "<Figure size 640x480 with 1 Axes>"
      ]
     },
     "metadata": {},
     "output_type": "display_data"
    }
   ],
   "source": [
    "# create a figure object\n",
    "fig = plt.figure()\n",
    "\n",
    "# plot the temperature\n",
    "plt.pcolormesh(longitude, latitude, SIarea_sub, vmin=0, vmax=1, cmap=\"bone\", transform=ccrs.PlateCarree())\n",
    "plt.colorbar(orientation = 'horizontal')\n",
    "\n",
    "# format the axes\n",
    "plt.xlabel('Longitude')\n",
    "plt.ylabel('Latitude')\n",
    "plt.title('Sea Ice Fraction')\n",
    "plt.show()"
   ]
  },
  {
   "cell_type": "markdown",
   "id": "2919c728-0502-4e80-9328-b085b848bf42",
   "metadata": {},
   "source": [
    "Looking at the sea ice data in this view is a little silly because our map is focused on the equator while the sea ice is at the poles. One way we could modify this is by changing the *projection* of our map."
   ]
  },
  {
   "cell_type": "markdown",
   "id": "ae4b47a7",
   "metadata": {},
   "source": [
    "## Part 2: Plotting with Cartopy\n",
    "When we are working with numerical ocean model data, our numerical models represent locations on the globe. In these situations, it is helpful to plot our data in a projection that represents this aspect of our data. With this in mind, we'll invstigate plotting with the `cartopy` package which refers to **carto**graphy with **py**thon. "
   ]
  },
  {
   "cell_type": "markdown",
   "id": "56bf2d78-759f-477a-89e5-456c193b3116",
   "metadata": {},
   "source": [
    "In looking at the plot above, there's at least two things that are dissatisfying. First, the world is very distorted at the poles. Second, the continents are filled in with a default value of 0, which is a the same value given to areas of no sea ice - kinda confusing. We can remedy both of these using `cartopy` by choosing a better projection for our data and adding polygons that cover the coastline. \n",
    "\n",
    "Take a look at the plotting code below:"
   ]
  },
  {
   "cell_type": "code",
   "execution_count": null,
   "id": "b2787e66-9ea9-4838-b17e-e3c4f3f65dd5",
   "metadata": {},
   "outputs": [],
   "source": [
    "# create a figure object\n",
    "fig = plt.figure()\n",
    "ax = plt.axes(projection=ccrs.Robinson())\n",
    "\n",
    "# plot the seaice\n",
    "plt.pcolormesh(longitude, latitude, SIarea, vmin=0, vmax=1, cmap=cm.ice,\n",
    "               transform=ccrs.PlateCarree())\n",
    "plt.colorbar(orientation = 'horizontal')\n",
    "\n",
    "# add coastlines\n",
    "plt.gca().add_feature(cfeature.LAND, zorder=99, facecolor='silver')\n",
    "plt.gca().coastlines()\n",
    "\n",
    "# format the axes\n",
    "plt.title('Sea Ice Fraction')\n",
    "plt.show()"
   ]
  },
  {
   "cell_type": "markdown",
   "id": "425d50e4-e4bc-4a20-9c66-3186a36d349c",
   "metadata": {},
   "source": [
    "### &#x1F914; Spot the differences\n",
    "What are the key differences between the code that generates the plot above compared to the previous plot?\n",
    "\n",
    "[enter your answer here]"
   ]
  },
  {
   "cell_type": "markdown",
   "id": "043c2a61-38c7-48c4-b39a-a1e56f338bf4",
   "metadata": {
    "jp-MarkdownHeadingCollapsed": true
   },
   "source": [
    "### Projections\n",
    "As you can see above, the axes object provides the projection system for the map. We see that a `projection` parameter has been set to a specific projection - in this case the `Robinson` projection. The `cartopy` package has a variety of different projections for plotting mapped data. Test some of the following common projections by modifying the plot above:\n",
    "\n",
    "| Projection Code | Default Parameters |\n",
    "|-----------------|--------------------|\n",
    "| PlateCarree()  | central_longitude=0.0 |\n",
    "| Mollweide()     | central_longitude=0.0 |\n",
    "| Orthographic()  | central_longitude=0.0, central_latitude=0.0 |\n",
    "| Robinson()      | central_longitude=0.0 |\n",
    "| InterruptedGoodeHomolosine() | central_longitude=0.0 |\n",
    "\n",
    "When you find your favorite projection, try changing the default central longitude/latitude to see how the plot changes."
   ]
  },
  {
   "cell_type": "markdown",
   "id": "d3528296-881a-4388-b78e-7ce2e435c42d",
   "metadata": {},
   "source": [
    "### &#x2757; Note\n",
    "In the plot above, the `transform=ccrs.PlateCarree()` keyword is crucial to plotting the data correctly. This line tells `cartopy` that the data is in longitude-latitude coordinates. Without this keyword, there is no way that `cartopy` will know how to put the data on the map."
   ]
  },
  {
   "cell_type": "markdown",
   "id": "0597d9b6-c28b-48a8-8844-3f055e2022d8",
   "metadata": {},
   "source": [
    "## Part 2: Figures and Functions\n",
    "In the subsequent sections, we're going to take a look at how to create movies in Python but first, we're going to build up some machinery to create the frames of our movie. After we've created our frames, it will be easy to string them together into a movie.\n",
    "\n",
    "First, let's define a function called `plot_frame` to make a plot. This function should take in two input arguments: the sea ice field and a file path."
   ]
  },
  {
   "cell_type": "code",
   "execution_count": null,
   "id": "73f198ba-4b07-41e0-a50d-edf2fc428e8d",
   "metadata": {},
   "outputs": [],
   "source": [
    "# adapt the code below in to a function\n",
    "# called plot_frame that takes SIarea and the file_path as arguments\n",
    "file_path = ''\n",
    "\n",
    "# make a figure object with projection\n",
    "fig = plt.figure(figsize=(6,6))\n",
    "ax = plt.axes(projection=ccrs.Orthographic(central_latitude = 80))\n",
    "\n",
    "# plot the sea ice field\n",
    "plt.pcolormesh(longitude, latitude, SIarea, vmin=0, vmax=1, cmap=cm.ice,\n",
    "               transform=ccrs.PlateCarree())\n",
    "plt.colorbar(orientation = 'horizontal', label='Sea Ice Concentration')\n",
    "\n",
    "# add coastlines\n",
    "plt.gca().add_feature(cfeature.LAND, zorder=99, facecolor='silver')\n",
    "plt.gca().coastlines()\n",
    "\n",
    "# format the axes\n",
    "plt.title('Sea Ice Fraction')\n",
    "\n",
    "# save the figure\n",
    "plt.savefig(file_path)\n",
    "plt.close(fig)"
   ]
  },
  {
   "cell_type": "markdown",
   "id": "b75659e7-b49c-4b32-8b0b-e59f28ff1f7a",
   "metadata": {},
   "source": [
    "Once you're happy with your code, we can test it out with the data we've read in for Jan 15 above:"
   ]
  },
  {
   "cell_type": "code",
   "execution_count": null,
   "id": "37b88581-2a9b-4f8d-a100-1e0e03abd307",
   "metadata": {},
   "outputs": [],
   "source": [
    "# define a path to a directory for your frames directory\n",
    "frames_directory = ''\n",
    "\n",
    "# define an output path for your frame\n",
    "file_path = os.path.join(frames_directory,'SIarea_2015_01.png')\n",
    "\n",
    "# test your plotting function here\n",
    "plot_frame(SIarea, file_path)"
   ]
  },
  {
   "cell_type": "markdown",
   "id": "b6c238c7-cc9f-4644-9e36-9b03392d12ff",
   "metadata": {},
   "source": [
    "Now that we've created out images, we're ready to stitch them together to make a movie! We'll tackle this task in class on Tuesday."
   ]
  },
  {
   "cell_type": "markdown",
   "id": "471af3d5",
   "metadata": {},
   "source": []
  }
 ],
 "metadata": {
  "kernelspec": {
   "display_name": "cs185c",
   "language": "python",
   "name": "cs185c"
  },
  "language_info": {
   "codemirror_mode": {
    "name": "ipython",
    "version": 3
   },
   "file_extension": ".py",
   "mimetype": "text/x-python",
   "name": "python",
   "nbconvert_exporter": "python",
   "pygments_lexer": "ipython3",
   "version": "3.11.9"
  }
 },
 "nbformat": 4,
 "nbformat_minor": 5
}
