{
 "cells": [
  {
   "cell_type": "markdown",
   "id": "d33ddf52-a93f-4b34-8105-424eccfa50b8",
   "metadata": {},
   "source": [
    "# Our First Model: The Barotropic Gyre\n",
    "\n",
    "#### Overview:\n",
    "In this notebook, we will investigate the files and data that comprise the Barotropic Gyre experiment - a simple but typical MITgcm experiment.\n",
    "\n",
    "#### Import modules\n",
    "Begin by importing modules to conduct calculations and make plots."
   ]
  },
  {
   "cell_type": "code",
   "execution_count": 1,
   "id": "30178947-16c8-4653-9146-9bef55eda1a2",
   "metadata": {},
   "outputs": [],
   "source": [
    "import os\n",
    "import numpy as np\n",
    "import matplotlib.pyplot as plt"
   ]
  },
  {
   "cell_type": "markdown",
   "id": "4b07690b-348c-4e07-9dc0-1147a317e951",
   "metadata": {},
   "source": [
    "#### Define a path to the model\n"
   ]
  },
  {
   "cell_type": "code",
   "execution_count": 3,
   "id": "4e00bb1e-cced-4959-9e5d-d8fe9c5e15e3",
   "metadata": {},
   "outputs": [],
   "source": [
    "# enter your path here\n",
    "model_path = 'C:\\\\Users\\\\DannyPC\\Documents\\\\cs185c_fall2024_ocean_modeling\\\\MITgcm\\\\verification\\\\tutorial_barotropic_gyre\\\\build'"
   ]
  },
  {
   "cell_type": "markdown",
   "id": "3eb7e15a-8d86-42d3-ae8d-d54c77577cd0",
   "metadata": {},
   "source": [
    "## The Model Grid\n",
    "The model grid is one of the central components of any model. In MITgcm, the model grid is defined in a combination of compile-time files and run-time files. Fill in the following information based on data in the `code/SIZE/h` file and the `input/data` file:"
   ]
  },
  {
   "cell_type": "code",
   "execution_count": 9,
   "id": "77540b7f-59e3-423c-9e3c-66f5d0c94c3f",
   "metadata": {},
   "outputs": [],
   "source": [
    "# fill in the information here\n",
    "n_rows = 62\n",
    "n_cols = 62\n",
    "dx = 2000\n",
    "dy = 2000"
   ]
  },
  {
   "cell_type": "markdown",
   "id": "5768051d-2b95-4905-b167-ea8a0f3fbd94",
   "metadata": {},
   "source": [
    "Using the rows and columns, next make grids for the X and Y coordinates."
   ]
  },
  {
   "cell_type": "code",
   "execution_count": 5,
   "id": "18120fb8-d9c5-4da0-afdf-1d58ca0ac916",
   "metadata": {},
   "outputs": [
    {
     "name": "stdout",
     "output_type": "stream",
     "text": [
      "(62, 62) (62, 62)\n"
     ]
    }
   ],
   "source": [
    "# make an x and y grid\n",
    "x = np.arange(0,n_cols*dx,dx)\n",
    "y = np.arange(0,n_rows*dy,dy)\n",
    "X,Y = np.meshgrid(x,y)\n",
    "\n",
    "# print the shape of X and Y\n",
    "print(np.shape(X), np.shape(Y))"
   ]
  },
  {
   "cell_type": "markdown",
   "id": "6c2c4b9e-c22d-4974-bf1d-3752aa6fc916",
   "metadata": {},
   "source": [
    "After you have determined the size of the grid, run the following plotting code to visualize the computational grid:"
   ]
  },
  {
   "cell_type": "code",
   "execution_count": 6,
   "id": "719e49b1-7cc7-4cbd-9425-4a16868b7ff8",
   "metadata": {},
   "outputs": [
    {
     "data": {
      "image/png": "[encoded data removed]",
      "text/plain": [
       "<Figure size 400x400 with 1 Axes>"
      ]
     },
     "metadata": {},
     "output_type": "display_data"
    }
   ],
   "source": [
    "# define the cell edges\n",
    "x_cell_edges = np.arange(n_cols+1)\n",
    "y_cell_edges = np.arange(n_rows+1)\n",
    "\n",
    "# plot the grid\n",
    "fig = plt.figure(figsize = (4,4))\n",
    "for i in range(n_cols+1):\n",
    "    plt.plot(x_cell_edges[i]*np.ones((n_rows+1,)), y_cell_edges, 'k-', linewidth=0.5)\n",
    "for j in range(n_rows+1):\n",
    "    plt.plot(x_cell_edges, y_cell_edges[j]*np.ones((n_cols+1,)), 'k-', linewidth=0.5)\n",
    "    \n",
    "# format and show\n",
    "plt.gca().set_xlim([0,n_cols])\n",
    "plt.gca().set_ylim([0,n_rows])\n",
    "plt.xlabel('Columns')\n",
    "plt.ylabel('Rows')\n",
    "plt.title('Model grid with size ('+str(n_rows)+', '+str(n_cols)+')')\n",
    "plt.show()"
   ]
  },
  {
   "cell_type": "markdown",
   "id": "ade64485-ae70-4dec-b488-16ebf0af043d",
   "metadata": {},
   "source": [
    "### Visualize the bathymetry\n",
    "Read and plot the bathymetry of the model from the `bathy.bin` file."
   ]
  },
  {
   "cell_type": "code",
   "execution_count": 8,
   "id": "29174e58-90c3-4373-bc72-6303d11235ff",
   "metadata": {},
   "outputs": [
    {
     "ename": "FileNotFoundError",
     "evalue": "[Errno 2] No such file or directory: 'C:\\\\Users\\\\DannyPC\\\\Documents\\\\cs185c_fall2024_ocean_modeling\\\\MITgcm\\\\verification\\\\tutorial_barotropic_gyre\\\\build\\\\input\\\\bathy.bin'",
     "output_type": "error",
     "traceback": [
      "\u001b[1;31m---------------------------------------------------------------------------\u001b[0m",
      "\u001b[1;31mFileNotFoundError\u001b[0m                         Traceback (most recent call last)",
      "Cell \u001b[1;32mIn[8], line 5\u001b[0m\n\u001b[0;32m      2\u001b[0m bathy_file \u001b[38;5;241m=\u001b[39m os\u001b[38;5;241m.\u001b[39mpath\u001b[38;5;241m.\u001b[39mjoin(model_path,\u001b[38;5;124m'\u001b[39m\u001b[38;5;124minput\u001b[39m\u001b[38;5;124m'\u001b[39m,\u001b[38;5;124m'\u001b[39m\u001b[38;5;124mbathy.bin\u001b[39m\u001b[38;5;124m'\u001b[39m)\n\u001b[0;32m      4\u001b[0m \u001b[38;5;66;03m# read in the bathymetry grid\u001b[39;00m\n\u001b[1;32m----> 5\u001b[0m bathy_grid \u001b[38;5;241m=\u001b[39m np\u001b[38;5;241m.\u001b[39mfromfile(bathy_file, \u001b[38;5;124m'\u001b[39m\u001b[38;5;124m>f4\u001b[39m\u001b[38;5;124m'\u001b[39m)\u001b[38;5;241m.\u001b[39mreshape((n_rows, n_cols))\n\u001b[0;32m      7\u001b[0m \u001b[38;5;66;03m# plot the bathymetry\u001b[39;00m\n\u001b[0;32m      8\u001b[0m fig \u001b[38;5;241m=\u001b[39m plt\u001b[38;5;241m.\u001b[39mfigure(figsize \u001b[38;5;241m=\u001b[39m (\u001b[38;5;241m5\u001b[39m,\u001b[38;5;241m4\u001b[39m))\n",
      "\u001b[1;31mFileNotFoundError\u001b[0m: [Errno 2] No such file or directory: 'C:\\\\Users\\\\DannyPC\\\\Documents\\\\cs185c_fall2024_ocean_modeling\\\\MITgcm\\\\verification\\\\tutorial_barotropic_gyre\\\\build\\\\input\\\\bathy.bin'"
     ]
    }
   ],
   "source": [
    "# define the bathymetry file\n",
    "bathy_file = os.path.join(model_path,'input','bathy.bin')\n",
    "\n",
    "# read in the bathymetry grid\n",
    "bathy_grid = np.fromfile(bathy_file, '>f4').reshape((n_rows, n_cols))\n",
    "\n",
    "# plot the bathymetry\n",
    "fig = plt.figure(figsize = (5,4))\n",
    "C = plt.pcolormesh(bathy_grid, cmap='Blues_r')\n",
    "plt.colorbar(C)\n",
    "plt.xlabel('Columns')\n",
    "plt.ylabel('Rows')\n",
    "plt.title('Model Bathymetry')\n",
    "plt.show()"
   ]
  },
  {
   "cell_type": "markdown",
   "id": "94d22c64-49cb-4978-90ce-a42204cf9981",
   "metadata": {},
   "source": [
    "### Visualize the Wind Forcing\n",
    "Read and plot the wind forcing of the model from the `windx_cosy.bin` file."
   ]
  },
  {
   "cell_type": "code",
   "execution_count": null,
   "id": "e7b0544d-e3c2-4f32-8ddb-4aebee8d7e94",
   "metadata": {},
   "outputs": [],
   "source": [
    "# define the wind file\n",
    "\n",
    "\n",
    "# read in the wind grid\n",
    "\n",
    "\n",
    "# plot the wind\n",
    "fig = plt.figure(figsize = (5,4))\n",
    "C = plt.pcolormesh(wind_grid, cmap='seismic')\n",
    "plt.colorbar(C)\n",
    "plt.xlabel('Columns')\n",
    "plt.ylabel('Rows')\n",
    "plt.title('Zonal Wind Speed')\n",
    "plt.show()"
   ]
  },
  {
   "cell_type": "markdown",
   "id": "6ac80a68-58e7-43f8-a721-ba16a7b23467",
   "metadata": {},
   "source": [
    "#### &#x1F914; Question for consideration:\n",
    "What direction is the wind blowing?"
   ]
  },
  {
   "cell_type": "markdown",
   "id": "52f030bd-8211-4bf2-ad4f-72f7dd422e21",
   "metadata": {},
   "source": [
    "## Assessing Model Output\n",
    "After running the model, we will have many fields availabile at our finger tips. Let's plot the ocean current fields at a time of 10 timesteps:"
   ]
  },
  {
   "cell_type": "code",
   "execution_count": null,
   "id": "1a614d1b-27aa-4117-8ab4-3d6bd6275859",
   "metadata": {},
   "outputs": [],
   "source": [
    "# define the zonal current velocity file\n",
    "\n",
    "\n",
    "# read in the zonal current velocity grid\n",
    "\n",
    "\n",
    "# plot the zonal current velocity\n",
    "fig = plt.figure(figsize = (5,4))\n",
    "C = plt.pcolormesh(u_grid, cmap='seismic')\n",
    "plt.colorbar(C)\n",
    "plt.xlabel('Columns')\n",
    "plt.ylabel('Rows')\n",
    "plt.title('Zonal Current Velocity')\n",
    "plt.show()"
   ]
  },
  {
   "cell_type": "markdown",
   "id": "1df9d232-362d-4f6a-91f6-c5eaaae4c46f",
   "metadata": {},
   "source": [
    "Similarly, plot the meridional velocity:"
   ]
  },
  {
   "cell_type": "code",
   "execution_count": null,
   "id": "765397e9-cd7d-4ad3-abb7-b039c1b6baeb",
   "metadata": {},
   "outputs": [],
   "source": [
    "# define the meridional current velocity file\n",
    "\n",
    "\n",
    "# read in the meridional current velocity grid\n",
    "\n",
    "\n",
    "# plot the meridional current velocity\n",
    "fig = plt.figure(figsize = (5,4))\n",
    "C = plt.pcolormesh(v_grid, cmap='seismic')\n",
    "plt.colorbar(C)\n",
    "plt.xlabel('Columns')\n",
    "plt.ylabel('Rows')\n",
    "plt.title('Meridional Current Velocity')\n",
    "plt.show()"
   ]
  },
  {
   "cell_type": "markdown",
   "id": "60e9da32-2f1f-40db-89fb-1cb6d29e4be9",
   "metadata": {},
   "source": [
    "#### &#x1F914; Question for consideration:\n",
    "What direction is the current moving?\n",
    "\n",
    "Plotting current velocity gives us a sense of the components. Often, it is helpful to visualize this in terms of the overall speed and current direction. Use the code block below to plot speed along with streamlines for the current direction."
   ]
  },
  {
   "cell_type": "code",
   "execution_count": null,
   "id": "df5513cb-99a5-43d0-a27f-a0a449bec5e2",
   "metadata": {},
   "outputs": [],
   "source": [
    "# compute the speed as a grid\n",
    "\n",
    "\n",
    "# plot the speed\n",
    "fig = plt.figure(figsize = (5,4))\n",
    "\n",
    "# plot the stream function of the grid\n",
    "\n",
    "\n",
    "# format the figure\n",
    "plt.colorbar(C)\n",
    "plt.xlabel('X (km)')\n",
    "plt.ylabel('Y (km)')\n",
    "plt.title('Current Speed')\n",
    "plt.show()"
   ]
  },
  {
   "cell_type": "markdown",
   "id": "77675a24-9568-480b-adb5-278b8da3abbd",
   "metadata": {},
   "source": [
    "### Model Results after 1 Year\n",
    "The current reaches approximate equilibrium after flowing for a long period of time - say 1 year or more. Modify the model to run the code for one year and then use the code below to plot the current speed and sea surface height."
   ]
  },
  {
   "cell_type": "code",
   "execution_count": null,
   "id": "8462ac7a-a42c-44d3-afd8-fcbf328fe32c",
   "metadata": {},
   "outputs": [],
   "source": [
    "# define the zonal velocity file after one year\n",
    "\n",
    "\n",
    "# define the meridional velocity file after one year\n",
    "\n",
    "\n",
    "# read in the zonal and meridional current velocity grids\n",
    "u_grid = np.fromfile(u_file, '>f4').reshape(n_rows,n_cols)\n",
    "v_grid = np.fromfile(v_file, '>f4').reshape(n_rows,n_cols)\n",
    "\n",
    "# compute the speed as a grid\n",
    "speed_grid = (u_grid**2 + v_grid**2)**0.5\n",
    "\n",
    "# plot the speed with streamlines\n",
    "fig = plt.figure(figsize = (5,4))\n",
    "C = plt.pcolormesh(X, Y, speed_grid, cmap='turbo')\n",
    "plt.streamplot(X, Y, u_grid, v_grid, linewidth=0.5, color='k')\n",
    "plt.colorbar(C)\n",
    "plt.xlabel('X (km)')\n",
    "plt.ylabel('Y (km)')\n",
    "plt.title('Current Speed')\n",
    "plt.show()"
   ]
  },
  {
   "cell_type": "markdown",
   "id": "857ca13e-55c2-47e6-a072-2eb973a3ead6",
   "metadata": {},
   "source": [
    "#### &#x1F914; Questions for consideration:\n",
    "1. How does the current pattern change after 1 year?\n",
    "2. How does this compare to gyre currents in the real ocean?\n",
    "\n",
    "### Sea Surface Height\n",
    "Ocean currents modify the shape of the sea surface. In MITgcm, the sea surface shape is given by `Eta`. Plot the `Eta` grid below corresponding to the timesteps after 1 year."
   ]
  },
  {
   "cell_type": "code",
   "execution_count": null,
   "id": "274ed457-2619-4e53-a2e9-f16ecfbc08b1",
   "metadata": {},
   "outputs": [],
   "source": [
    "# define the sea surface height file\n",
    "\n",
    "\n",
    "# read in the sea surface height grid\n",
    "\n",
    "\n",
    "# plot the sea surface height\n",
    "fig = plt.figure(figsize = (5,4))\n",
    "C = plt.pcolormesh(eta_grid, cmap='turbo')\n",
    "plt.colorbar(C)\n",
    "plt.xlabel('Columns')\n",
    "plt.ylabel('Rows')\n",
    "plt.title('Sea Surface Height')\n",
    "plt.show()"
   ]
  }
 ],
 "metadata": {
  "kernelspec": {
   "display_name": "cs185c",
   "language": "python",
   "name": "cs185c"
  },
  "language_info": {
   "codemirror_mode": {
    "name": "ipython",
    "version": 3
   },
   "file_extension": ".py",
   "mimetype": "text/x-python",
   "name": "python",
   "nbconvert_exporter": "python",
   "pygments_lexer": "ipython3",
   "version": "3.11.9"
  }
 },
 "nbformat": 4,
 "nbformat_minor": 5
}
