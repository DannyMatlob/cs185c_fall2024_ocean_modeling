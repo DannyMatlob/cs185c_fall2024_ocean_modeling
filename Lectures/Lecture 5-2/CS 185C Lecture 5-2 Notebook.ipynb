{
 "cells": [
  {
   "cell_type": "markdown",
   "id": "d33ddf52-a93f-4b34-8105-424eccfa50b8",
   "metadata": {},
   "source": [
    "# Numerical Algorithms: From ODEs to PDEs\n",
    "\n",
    "#### Overview:\n",
    "In this notebook, we will continue our discussion on constructing numerical algorithms that can be used to solve differential equations. Here, we will consider the heat/diffusion equation - a fundamental partial differential equation and a key part of numerical ocean models.\n",
    "\n",
    "#### Import modules\n",
    "Begin by importing modules to conduct calculations and make plots."
   ]
  },
  {
   "cell_type": "code",
   "execution_count": null,
   "id": "30178947-16c8-4653-9146-9bef55eda1a2",
   "metadata": {},
   "outputs": [],
   "source": [
    "import numpy as np\n",
    "import matplotlib.pyplot as plt"
   ]
  },
  {
   "cell_type": "markdown",
   "id": "988c73ac-1234-4566-9458-d8e02e6ed248",
   "metadata": {},
   "source": [
    "## The Heat Equation"
   ]
  },
  {
   "cell_type": "markdown",
   "id": "ab00808d-cce5-4da5-87ef-ecc2c5c87b65",
   "metadata": {},
   "source": [
    "#### Differential Equation\n",
    "Consider the function $f(x,t)$ which describes temperature as a function of both space ($x$) and time ($t$). The differential equation that describes the evolution of temperature through space and time is: \n",
    "$$\n",
    "\\frac{\\partial f}{\\partial t} = \\kappa \\frac{\\partial^2 f}{\\partial x^2}\n",
    "$$\n",
    "\n",
    "In this equation, we see that the derivative in time ($\\partial f/\\partial t$) is related to the second derivative in space ($\\partial^2 f/\\partial x^2$). This is an example of a *partial differential equation*. By contrast, an *ordinary* differential equation is one which considers derivatives in one dimension, such as space or time.\n",
    "\n",
    "\n",
    "It's important to note that we've used calculus symbols to reflect the physics, but they reflect the intuitive explanation that the total change in heat must be equal to the heat that enters minus the heat that goes out. In this sense, when viewing the equation above, it's helpful to consider what the symbols mean from a physical standpoint to help guide intuition about what the solution may look like."
   ]
  },
  {
   "cell_type": "markdown",
   "id": "fafcf227-d3f2-4a47-b71e-c4753b415fbf",
   "metadata": {},
   "source": [
    "#### Initial Conditions\n",
    "Just as for ordinary differential equations, we also need to have an initial condition to solve partial differential equations. In the case of the heat equation, this condition is the full profile of temperature through the rod.\n",
    "\n",
    "Let's consider a scenario where we use a blow torch to heat up a rod of temperature $10^{\\circ}$C in the middle of a rod by $2^{\\circ}$C. We can visualize this by defining an $x$ grid for ourselves and estimating this with a bell curve-like shape:"
   ]
  },
  {
   "cell_type": "code",
   "execution_count": 1,
   "id": "8dbaa3e7-9927-42a5-8207-18e51f30580f",
   "metadata": {},
   "outputs": [
    {
     "ename": "NameError",
     "evalue": "name 'np' is not defined",
     "output_type": "error",
     "traceback": [
      "\u001b[1;31m---------------------------------------------------------------------------\u001b[0m",
      "\u001b[1;31mNameError\u001b[0m                                 Traceback (most recent call last)",
      "Cell \u001b[1;32mIn[1], line 12\u001b[0m\n\u001b[0;32m      9\u001b[0m nx \u001b[38;5;241m=\u001b[39m \u001b[38;5;28mint\u001b[39m((x_max\u001b[38;5;241m-\u001b[39mx_min)\u001b[38;5;241m/\u001b[39mdx) \u001b[38;5;241m+\u001b[39m \u001b[38;5;241m1\u001b[39m \n\u001b[0;32m     11\u001b[0m \u001b[38;5;66;03m# define the x grid\u001b[39;00m\n\u001b[1;32m---> 12\u001b[0m x \u001b[38;5;241m=\u001b[39m np\u001b[38;5;241m.\u001b[39mlinspace(x_min, x_max, nx)\n\u001b[0;32m     14\u001b[0m \u001b[38;5;66;03m# estimate initial conditions\u001b[39;00m\n\u001b[0;32m     15\u001b[0m T_0 \u001b[38;5;241m=\u001b[39m \u001b[38;5;241m2\u001b[39m\u001b[38;5;241m*\u001b[39mnp\u001b[38;5;241m.\u001b[39mexp(\u001b[38;5;241m-\u001b[39m(x\u001b[38;5;241m*\u001b[39m\u001b[38;5;241m*\u001b[39m\u001b[38;5;241m2\u001b[39m)\u001b[38;5;241m/\u001b[39m\u001b[38;5;241m0.25\u001b[39m) \u001b[38;5;241m+\u001b[39m \u001b[38;5;241m10\u001b[39m\n",
      "\u001b[1;31mNameError\u001b[0m: name 'np' is not defined"
     ]
    }
   ],
   "source": [
    "# define a 10 m grid between -5 and 5\n",
    "x_min = -5.0 \n",
    "x_max = 5.0 \n",
    "\n",
    "# define a spatial step\n",
    "dx = 0.1\n",
    "\n",
    "# compute the number of points on the x grid\n",
    "nx = int((x_max-x_min)/dx) + 1 \n",
    "\n",
    "# define the x grid\n",
    "x = np.linspace(x_min, x_max, nx)\n",
    "\n",
    "# estimate initial conditions\n",
    "T_0 = 2*np.exp(-(x**2)/0.25) + 10"
   ]
  },
  {
   "cell_type": "markdown",
   "id": "e66838ae-4ec6-4d51-af92-eb3a92645f72",
   "metadata": {},
   "source": [
    "Let's make a plot of the initial conditions to visualize:"
   ]
  },
  {
   "cell_type": "code",
   "execution_count": null,
   "id": "56511a73-019e-454d-acc0-fe68a27ed1bf",
   "metadata": {},
   "outputs": [],
   "source": [
    "# make a plot of the initial conditions\n",
    "fig = plt.figure(figsize=(8,4))\n",
    "\n",
    "# enter plotting line here\n",
    "\n",
    "# format axes\n",
    "plt.ylabel('Temperature ($^{\\circ}$C)')\n",
    "plt.xlabel('Distance along rod (m)')\n",
    "plt.grid(linestyle='--',linewidth=0.5)\n",
    "plt.show()"
   ]
  },
  {
   "cell_type": "markdown",
   "id": "dd356f0d-5566-46ed-aef9-c0778ecb18fe",
   "metadata": {},
   "source": [
    "#### &#x1F914; Questions for consideration:\n",
    "1. How do we expect the temperature of the rod to evolve through time?\n",
    "2. What happens when excess heat gets to the end of the rod?"
   ]
  },
  {
   "cell_type": "markdown",
   "id": "82bc66c1-2032-4955-b3ec-27450eabf9cc",
   "metadata": {},
   "source": [
    "### Boundary Conditions\n",
    "When solving PDEs, we are often working in a regional domain. In this case, the rod has a finite length - 10 meters. Since there are edges in our solution, we additionally need to consider the conditions at the boundary. This can be done in several ways.\n",
    "\n",
    "#### Dirichlet Boundary Conditions\n",
    "One options for the boundary is that it is kept at a constant temperature - maybe there are 10$^{\\circ}$C temperature plates that ensure the edges are always kept at 10$^{\\circ}$C. In this case, the boundary conditions are:\n",
    "\n",
    "$$\n",
    "f(x=-5, t) = f(x=5, t) = 10^{\\circ}\\text{C}\n",
    "$$\n",
    "\n",
    "#### Neumann Boundary Conditions\n",
    "Another options for the boundary is that the flux is kept constant - maybe there are perfectly insulated end caps that don't allow heat to escape. In this case, the boundary conditions are:\n",
    "\n",
    "$$\n",
    "\\frac{\\partial}{\\partial x}f(x=-5, t) = \\frac{\\partial}{\\partial x}f(x=5, t) = 0\n",
    "$$\n",
    "\n",
    "These are two of the more common boundary conditions but others could be considered. When we solve for our temperature evolution through time, we will see where we need the boundary conditions."
   ]
  },
  {
   "cell_type": "markdown",
   "id": "97015bfb-fdaf-47c1-85b2-3891642ff308",
   "metadata": {},
   "source": [
    "## Discretizing the solution\n",
    "It turns out that the general solution to the heat equation is quite \"involved\" and most solutions turn toward approximating it with Fourier series. In other words, writing an analytical expression to solve the heat equation is a messy affair.\n",
    "\n",
    "Here, we will use our finite difference methods to find a way to model the evolution of heat in our rod. Recall that the forward difference for the first derivative is\n",
    "\n",
    "$$\n",
    "y'(t) \\approx \\frac{y(t+\\Delta t) - y(t)}{\\Delta t}\n",
    "$$\n",
    "\n",
    "Similarly, a finite difference for the second derivative is:\n",
    "\n",
    "$$\n",
    "y''(t) \\approx \\frac{y(t+\\Delta t) - 2y(t) + y(t-\\Delta t)}{\\Delta t^2}\n",
    "$$\n",
    "\n",
    "Putting this together, we can **discretize** the heat equation \n",
    "\n",
    "$$\n",
    "\\frac{\\partial f}{\\partial t} = \\kappa \\frac{\\partial^2 f}{\\partial x^2}\n",
    "$$\n",
    "\n",
    "as:\n",
    "\n",
    "$$\n",
    "\\frac{f(t+\\Delta t,x) - f(t,x)}{\\Delta t} = \\kappa \\frac{f(t,x+\\Delta x) - 2 f(t,x) + f(t,x-\\Delta x)}{\\Delta x^2}\n",
    "$$\n",
    "\n",
    "This gives us a fay to look into the future and model the evolution by solving for next time step:\n",
    "\n",
    "$$\n",
    "f(t+\\Delta t,x) =  f(t,x) +\\Delta t \\kappa \\frac{f(t,x+\\Delta x) - 2 f(t,x) + f(t,x-\\Delta x)}{\\Delta x^2}\n",
    "$$\n",
    "\n",
    "In words: the profile of temperature in the rod at a time in the future ($f(t+\\Delta t,x)$) is the temperature of the rod now ($f(t,x)$) plus some changes associated with how temperature has changed spatially in the rod over this time."
   ]
  },
  {
   "cell_type": "markdown",
   "id": "1ed80536-c7e1-473b-bb27-da3be1d99b87",
   "metadata": {},
   "source": [
    "## Coding up the solution\n",
    "\n",
    "To code up the solution, we'll first need to set up a time array for ourselves, similar to the spatial array we constructed above:"
   ]
  },
  {
   "cell_type": "code",
   "execution_count": null,
   "id": "379320a4-5857-49a5-bc15-e18e7230215a",
   "metadata": {},
   "outputs": [],
   "source": [
    "# starting and ending times (seconds)\n",
    "t_min = 0.0 \n",
    "t_max = 100.0\n",
    "\n",
    "# time step\n",
    "\n",
    "\n",
    "# compute number of timesteps\n",
    "nt = int((t_max-t_min)/dt) + 1 #number of points on t grid"
   ]
  },
  {
   "cell_type": "markdown",
   "id": "b75293f1-6351-4dea-b7f8-68c0aed22645",
   "metadata": {},
   "source": [
    "Now, we can work on coding up the numerical model:"
   ]
  },
  {
   "cell_type": "code",
   "execution_count": null,
   "id": "e02ee026-e3e3-4d1a-bcf7-0904d7c18438",
   "metadata": {},
   "outputs": [],
   "source": [
    "# make a grid to store the solution\n",
    "T = np.zeros((nt, nx))\n",
    "\n",
    "# define kappa (diffusion coefficient)\n",
    "kappa = 0.1 \n",
    "\n",
    "# establish initial conditions\n",
    "\n",
    "\n",
    "#### build and run the numerical model here:\n",
    "\n",
    "# loop through each time step up until the last one\n",
    "for j in range(nt-1):\n",
    "    \n",
    "    # loop through each space step to update the temperature\n",
    "    # dont include the boundaries\n",
    "    for i in range(1,len(x)-1): \n",
    "        \n",
    "\n",
    "    # now, address the boundary conditions\n",
    "    "
   ]
  },
  {
   "cell_type": "markdown",
   "id": "faed348d-972c-4246-8d32-939bbca61084",
   "metadata": {},
   "source": [
    "Now that we've got a solution, let's take a look at the solution at a few time steps. Since there are lots of timesteps, let's choose to plot at only a few snapshots"
   ]
  },
  {
   "cell_type": "code",
   "execution_count": null,
   "id": "78c2490a-09e1-448e-90ed-be93ac158957",
   "metadata": {},
   "outputs": [],
   "source": [
    "# make a plot of the initial conditions\n",
    "fig = plt.figure(figsize=(8,4))\n",
    "\n",
    "# plot initial conditions\n",
    "plt.plot(x, T_0, 'r-', label='0 seconds')\n",
    "\n",
    "# plot conditions at 2 seconds\n",
    "time_index = int(2/dt)\n",
    "plt.plot(x, T[time_index,:], '-', color='orange', label='2 seconds')\n",
    "\n",
    "# plot conditions at 10 seconds\n",
    "time_index = int(10/dt)\n",
    "plt.plot(x, T[time_index,:], '-', color='yellow', label='10 seconds')\n",
    "\n",
    "# plot conditions at 20 seconds\n",
    "time_index = int(20/dt)\n",
    "plt.plot(x, T[time_index,:], '-', color='green', label='20 seconds')\n",
    "\n",
    "# plot conditions at 10 seconds\n",
    "time_index = int(50/dt)\n",
    "plt.plot(x, T[time_index,:], '-', color='blue', label='50 seconds')\n",
    "\n",
    "# plot conditions at 20 seconds\n",
    "time_index = int(100/dt)\n",
    "plt.plot(x, T[time_index,:], '-', color='purple', label='100 seconds')\n",
    "\n",
    "# format axes\n",
    "plt.legend()\n",
    "plt.ylabel('Temperature ($^{\\circ}$C)')\n",
    "plt.xlabel('Distance along rod (m)')\n",
    "plt.grid(linestyle='--',linewidth=0.5)\n",
    "plt.show()"
   ]
  },
  {
   "cell_type": "markdown",
   "id": "19067617-94ea-4968-baf2-6c1fdea35ac2",
   "metadata": {},
   "source": [
    "#### &#x1F914; Question for consideration:\n",
    "What happens if we take longer timesteps?"
   ]
  },
  {
   "cell_type": "markdown",
   "id": "ec673985-c3aa-4096-aa16-761e5112fb01",
   "metadata": {},
   "source": [
    "### The Courant-Friedrichs-Lewy Condition\n",
    "The Courant-Friedrichs-Lewy condition, or the \"CFL condition\" for short, describes how your time-stepping and spatial discretation but must related in order to maintain a stable solution.\n",
    "\n",
    "For the diffusion scheme in use here, the CFL condition is:\n",
    "\n",
    "$$\n",
    "\\frac{\\kappa \\Delta t}{\\Delta x^2} < \\frac{1}{2}\n",
    "$$"
   ]
  },
  {
   "cell_type": "markdown",
   "id": "c59cdac6-f65a-4578-8428-b6fc422bf8db",
   "metadata": {},
   "source": [
    "#### &#x1F914; Questions for consideration:\n",
    "1. Is CFL condtion satisfied when $\\Delta t = 0.025$ s? $0.25$ s?\n",
    "2. Suppose you construct an ocean model and determine the spatial resolution is not sufficient to capture the diffusive processes you are interested in. You decide to increase your spatial resolution by a factor of 2. How must your time step change to accomodate this difference?"
   ]
  },
  {
   "cell_type": "code",
   "execution_count": null,
   "id": "2192f249-0491-4be0-9557-c8c2917e029a",
   "metadata": {},
   "outputs": [],
   "source": [
    "# compute the CFL condition for the timesteps here\n",
    "# keep kappa and delta x the same as in the example above\n",
    "\n",
    "# delta t = 0.025\n",
    "\n",
    "\n",
    "# delta t = 0.25\n"
   ]
  },
  {
   "cell_type": "markdown",
   "id": "c1a9158b-4660-4787-95b1-8d5f370beb56",
   "metadata": {},
   "source": [
    "## The Heat Equation as a Diffusion Equation"
   ]
  },
  {
   "cell_type": "markdown",
   "id": "06b52649-63b2-4b13-8957-ffdb8f124791",
   "metadata": {},
   "source": [
    "Fundamentally, diffusion of particles in a fluid follow similar physical principles as the diffusion of heat in a medium. In this sense, the \"heat\" equation can also be considered a \"diffusion\" equation. \n",
    "\n",
    "This will be important when we start to consider how salinity varies in the ocean. We could similarly consider the same problem as above with salty water in the middle of a pipe. The evolution of salt $S$ would similarly be given by\n",
    "\n",
    "$$\n",
    "\\frac{\\partial S}{\\partial t} = \\kappa \\frac{\\partial^2 S}{\\partial x^2}\n",
    "$$\n",
    "\n",
    "For temperature, $\\kappa$ is a ratio of heat capacity coefficient relative to coefficient for heat conduction. The can be consider a thermal diffusivity coefficient describing how fast heat diffuses in water. For salinity, $\\kappa$ is a diffusion coefficent describing how fast salt diffuses in water.\n",
    "\n"
   ]
  },
  {
   "cell_type": "markdown",
   "id": "2b1e9168-d1a3-4fae-b726-1e913ba26506",
   "metadata": {},
   "source": [
    "#### &#x1F914; Question for consideration:\n",
    "In water, the heat diffusion coefficient is $O(10^{-3}$) while the salt diffusion coefficient is $O(10^{-9}$). Which diffuses faster - heat or salt?"
   ]
  },
  {
   "cell_type": "markdown",
   "id": "6e66deba-17df-4f04-a33c-4f419c126c75",
   "metadata": {},
   "source": [
    "#### If there's time:\n",
    "Two options:\n",
    "1. Change the boundary conditions in the solution above\n",
    "2. Change the initial conditions in the solution above\n",
    "3. Solutions to equations that evolve in time are always better to visualize in a movie. Using the code above and your skills gained from Lecture 3-2 and Homework 3, design above movie to visualize the evolution of heat in the rod over time."
   ]
  }
 ],
 "metadata": {
  "kernelspec": {
   "display_name": "cs185c",
   "language": "python",
   "name": "cs185c"
  },
  "language_info": {
   "codemirror_mode": {
    "name": "ipython",
    "version": 3
   },
   "file_extension": ".py",
   "mimetype": "text/x-python",
   "name": "python",
   "nbconvert_exporter": "python",
   "pygments_lexer": "ipython3",
   "version": "3.11.9"
  }
 },
 "nbformat": 4,
 "nbformat_minor": 5
}
