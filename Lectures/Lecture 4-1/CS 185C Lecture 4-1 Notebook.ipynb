{
 "cells": [
  {
   "cell_type": "markdown",
   "id": "7d0f14b7-086b-4eb7-b595-b7d69c4fc710",
   "metadata": {},
   "source": [
    "# Visualizing Model Output - Part 3\n",
    "\n",
    "#### Overview\n",
    "In this notebook, we will start looking at ways to analyze ocean model data. As in previous lessons, we will use output from the ECCO Ocean State Estimate (Version 4).\n",
    "\n",
    "#### Import Modules\n",
    "First, import the modules required to access data from netCDF files and create plots:"
   ]
  },
  {
   "cell_type": "code",
   "execution_count": null,
   "id": "123f3250-109b-4329-8933-079278cb3336",
   "metadata": {},
   "outputs": [],
   "source": [
    "import os\n",
    "import numpy as np\n",
    "import matplotlib.pyplot as plt\n",
    "import xarray as xr\n",
    "import cartopy.crs as ccrs\n",
    "import cartopy.feature as cfeature\n",
    "import cmocean.cm as cm\n",
    "import moviepy.video.io.ImageSequenceClip"
   ]
  },
  {
   "cell_type": "markdown",
   "id": "69a7e02b-09c1-4dce-85b9-e5a3848dac42",
   "metadata": {},
   "source": [
    "After the modules are loaded in, establish a path to your data directory for this class:"
   ]
  },
  {
   "cell_type": "code",
   "execution_count": null,
   "id": "aa718296-aced-4e19-976a-128b4e014f62",
   "metadata": {},
   "outputs": [],
   "source": [
    "# Define a path to a data folder\n",
    "data_folder = 'D:\\data'"
   ]
  },
  {
   "cell_type": "markdown",
   "id": "1056a654-1898-4a0c-b6e0-a83c10c80264",
   "metadata": {},
   "source": [
    "## Stitching Figures into Movies\n",
    "In our previous notebook, we created a function called `plot_panel` to make a figure of data given a data field and a file path. Add this function to the coding cell below:"
   ]
  },
  {
   "cell_type": "code",
   "execution_count": null,
   "id": "9230e073-b805-4c40-8ddd-dd167468f4ab",
   "metadata": {},
   "outputs": [],
   "source": [
    "# define the plot_frame function\n",
    "def plot_frame(SIarea, file_path):\n",
    "\n",
    "    # make a figure object with projection\n",
    "    fig = plt.figure(figsize=(6,6))\n",
    "    ax = plt.axes(projection=ccrs.Orthographic(central_latitude = 80))\n",
    "    \n",
    "    # plot the sea ice field\n",
    "    plt.pcolormesh(longitude, latitude, SIarea, vmin=0, vmax=1, cmap=cm.ice,\n",
    "                   transform=ccrs.PlateCarree())\n",
    "    plt.colorbar(orientation = 'horizontal', label='Sea Ice Concentration')\n",
    "    \n",
    "    # add coastlines\n",
    "    plt.gca().add_feature(cfeature.LAND, zorder=99, facecolor='silver')\n",
    "    plt.gca().coastlines()\n",
    "    \n",
    "    # format the axes\n",
    "    plt.title('Sea Ice Fraction')\n",
    "    plt.savefig(file_path)\n",
    "    plt.close(fig)"
   ]
  },
  {
   "cell_type": "markdown",
   "id": "a2e52086-d5dc-48f3-a665-43cfd2ba80a7",
   "metadata": {},
   "source": [
    "Now that the function is defined, let's look through all of the months of our data to make panels for a movie:"
   ]
  },
  {
   "cell_type": "code",
   "execution_count": null,
   "id": "6bd6c88e-d865-4ceb-8a3f-2d7dd9f03508",
   "metadata": {},
   "outputs": [],
   "source": [
    "# make a path to an output directory for your frames\n",
    "frames_directory = ''\n",
    "\n",
    "# make a list that will hold the paths\n",
    "file_path_list = []\n",
    "\n",
    "# through through each month of a given year\n",
    "year = 2015\n",
    "for month in range(1,13):\n",
    "\n",
    "    # identify the data file path\n",
    "    data_file = os.path.join(data_folder,'ECCO','Version4','Release4',\n",
    "                          'interp_monthly','SIarea','SIarea_2015_'+'{:02d}'.format(month)+'.nc')\n",
    "\n",
    "    # read in the temperature at the surface along with the\n",
    "    # latitude and longitude information \n",
    "    ds = xr.open_dataset(data_file)\n",
    "    longitude = np.array(ds['longitude'][:])\n",
    "    latitude = np.array(ds['latitude'][:])\n",
    "    SIarea = np.array(ds['SIarea'][:])\n",
    "    ds.close()\n",
    "    \n",
    "    # subset sea ice to the first timestep\n",
    "    SIarea = SIarea[0, :, :]\n",
    "\n",
    "    # identify the image file path\n",
    "    image_file = os.path.join(frames_directory,\n",
    "                             'SIarea_2015_'+'{:02d}'.format(month)+'.png')\n",
    "\n",
    "    # add the image path to the list\n",
    "    file_path_list.append(image_file)\n",
    "\n",
    "    # make the figure with the function\n",
    "    "
   ]
  },
  {
   "cell_type": "markdown",
   "id": "7ed0f4d5-bfc1-42e9-aa6b-3c3b74b37ee4",
   "metadata": {},
   "source": [
    "With our frames constructed, we can now stitch them together into a movie! With the `moviepy` module, this is fairly straight-forward:"
   ]
  },
  {
   "cell_type": "code",
   "execution_count": null,
   "id": "1292e5c2-8964-47da-8405-3972cae37d3b",
   "metadata": {},
   "outputs": [],
   "source": [
    "# set the frames per second\n",
    "fps=5\n",
    "\n",
    "# use the ImageSequenceClip module to set up the clip\n",
    "clip = moviepy.video.io.ImageSequenceClip.ImageSequenceClip(file_path_list, fps=fps)\n",
    "\n",
    "# write the video to a file\n",
    "# enter a file name\n",
    "clip.write_videofile()"
   ]
  },
  {
   "cell_type": "markdown",
   "id": "03fd6887-0c82-473b-989d-4ce2fdcdb734",
   "metadata": {},
   "source": [
    "## From visualizing to analyzing\n",
    "In the section above and in the previous notebook, we've been focused on visualizing model output - first in space and then in time with timeseries and movies. But in all of this visualization, we have not done any real computation of change. Here, we'll start to look at ways to *quantify* change, starting with investigating trends.\n",
    "\n",
    "### Example: Change in Northern Hemisphere Sea Ice\n",
    "In the movie above, we've investigated changes in sea ice in the Arctic ocean. Below, we'll compute how the area of the sea ice has changed in time.\n",
    "\n",
    "\n",
    "In looking at the units of sea ice above, it's clear that we need to multiply each grid cell by it's area since each cell gives the fraction of each cell covered by sea ice. Conceptually, it's easy to do - just multiply the fraction by the cell area. But what's the cell area? This is a little trickier since our data is given in longitude-latitude coordinates. Further, the area of cells at the equator are larger than those at the poles. We can check this out in a simple plot of the globe with grid lines:"
   ]
  },
  {
   "cell_type": "code",
   "execution_count": null,
   "id": "401390e1-437b-4c76-a11a-4f1928aac6eb",
   "metadata": {},
   "outputs": [],
   "source": [
    "import matplotlib.ticker as mticker\n",
    "\n",
    "# make a figure object with projection\n",
    "fig = plt.figure(figsize=(4,4))\n",
    "ax = plt.axes(projection=ccrs.Orthographic(central_latitude = 30))\n",
    "\n",
    "# add coastlines\n",
    "plt.gca().add_feature(cfeature.LAND, zorder=99, facecolor='silver')\n",
    "plt.gca().coastlines()\n",
    "\n",
    "# add grid lines\n",
    "gl = ax.gridlines(crs=ccrs.PlateCarree(), draw_labels=True,\n",
    "                  linewidth=1, color='k', alpha=0.5, linestyle='-')\n",
    "gl.xlocator = mticker.FixedLocator(np.arange(-180,180,20))\n",
    "gl.ylocator = mticker.FixedLocator(np.arange(-90,90,20))\n",
    "# format the axes\n",
    "plt.show()"
   ]
  },
  {
   "cell_type": "markdown",
   "id": "cc852e15-274a-443e-ab0e-2f7447608124",
   "metadata": {},
   "source": [
    "### Computing areas\n",
    "If we assume the Earth is a perfect sphere with radius $R=$6,371 km, it's fairly straight-forward to compute the area of each cell if we think of each cell as taking up a given proportion of the sphere. On one hand, the area of a vertical latitude band between $\\phi_1$ and $\\phi_0$ has area\n",
    "\n",
    "$$\n",
    "A_{\\text{Longitude Band}} = A_{Earth} \\left(\\frac{\\phi_1 - \\phi_0}{2\\pi}\\right)\n",
    "$$\n",
    "\n",
    "Further, a little trigonometry shows the the area of a portion of the sphere between the equator and a given latitude ($\\theta$) is scaled by the *sin* of the latitude. Thus, in a given latitude band between $\\theta_1$ and $\\theta_0$, the fractional area is  \n",
    "\n",
    "$$\n",
    "A_{\\text{Latitude Band}} = A_{Earth}\\left(\\frac{\\sin (\\theta_1) - \\sin (\\theta_0)}{2}\\right)\n",
    "$$\n",
    "\n",
    "Putting these pieces together, we can compute the surface area of a given area of a sphere as \n",
    "\n",
    "$$\n",
    "A_{patch} = R^2 (\\phi_1 - \\phi_0) (\\sin (\\theta_1) - \\sin (\\theta_0)) \n",
    "$$\n"
   ]
  },
  {
   "cell_type": "code",
   "execution_count": null,
   "id": "e6d9db49-6122-478c-a995-73178ebba7dd",
   "metadata": {},
   "outputs": [],
   "source": [
    "# define the lon and lat bounds\n",
    "lon_step = 0.5\n",
    "lat_step = 0.5\n",
    "lon_bounds = np.arange(-180, 180.01, lon_step)\n",
    "lat_bounds = np.arange(-90, 90.01, lon_step)\n",
    "\n",
    "# convert to radians\n",
    "lon_bounds_rad = np.deg2rad(lon_bounds)\n",
    "lat_bounds_rad = np.deg2rad(lat_bounds)\n",
    "\n",
    "# make an array to store the area in each cell\n",
    "R = 6371000\n",
    "Area = np.zeros((360, 720))\n",
    "for i in range(len(lon_bounds)-1):\n",
    "    for j in range(len(lat_bounds)-1):\n",
    "        # enter area formula here"
   ]
  },
  {
   "cell_type": "markdown",
   "id": "618c05f8-57ba-4d39-848a-1fd708887b1a",
   "metadata": {},
   "source": [
    "As with any formula, it's a good idea to sanity check your results. Here, we know the each of a sphere should be $4\\pi R^2$, so let's check the numbers line up:"
   ]
  },
  {
   "cell_type": "code",
   "execution_count": null,
   "id": "584cff30-8640-45e2-8aaf-825d687c3e36",
   "metadata": {},
   "outputs": [],
   "source": [
    "# sanity check\n"
   ]
  },
  {
   "cell_type": "markdown",
   "id": "7ea34dba-cf57-4bf6-b1ea-848b119e577a",
   "metadata": {},
   "source": [
    "Looks good! We can even plot the area to be sure:"
   ]
  },
  {
   "cell_type": "code",
   "execution_count": null,
   "id": "0e4bc4f8-e332-4f16-9833-282993be5298",
   "metadata": {},
   "outputs": [],
   "source": [
    "# make a plot of the Area with a colorbar\n"
   ]
  },
  {
   "cell_type": "markdown",
   "id": "ec9fc7d7-0003-4f5c-adcb-1a4f44ade35b",
   "metadata": {},
   "source": [
    "As expected, the area is greater at the equator than the poles. Ok, now onto the trends:"
   ]
  },
  {
   "cell_type": "markdown",
   "id": "12a14096-df36-47f2-a976-bebad3b5e7ef",
   "metadata": {},
   "source": [
    "### Sea Ice Area in the Northern Hemisphere\n",
    "Equipped with our area function, we are now ready to compute the total sea ice area in the northern hemisphere through time. Let's make a list of files first, and then loop through them to compute the area:"
   ]
  },
  {
   "cell_type": "code",
   "execution_count": null,
   "id": "b9fe64ea-176f-45b3-bf0a-a60239b65da8",
   "metadata": {},
   "outputs": [],
   "source": [
    "# make a list to contain the file names\n",
    "file_list = []\n",
    "\n",
    "# loop through the 12 months\n",
    "for year in range(1992,2018):\n",
    "    for month in range(1,13):\n",
    "        file_list.append('SIarea_'+str(year)+'_'+'{:02d}'.format(month)+'.nc')\n",
    "\n",
    "# print out the file names (if desired)\n",
    "# print(file_list)"
   ]
  },
  {
   "cell_type": "markdown",
   "id": "5cdbc908-5586-422a-9cbc-481f16e15711",
   "metadata": {},
   "source": [
    "Now, loop through each file in the list, storing the total area of the sea ice in an array for plotting:"
   ]
  },
  {
   "cell_type": "code",
   "execution_count": null,
   "id": "ae7b4e59-ed60-491d-b62a-3a955177e918",
   "metadata": {},
   "outputs": [],
   "source": [
    "# make a list to store the sea ice values\n",
    "si_area = np.zeros((len(file_list),))\n",
    "\n",
    "# loop through each file\n",
    "for i in range(len(file_list)):\n",
    "    \n",
    "    # identify path to the data file\n",
    "    month_file = os.path.join(data_folder,'ECCO','Version4','Release4',\n",
    "                          'interp_monthly','SIarea',file_list[i])\n",
    "    \n",
    "    # read in the data \n",
    "    ds = xr.open_dataset(month_file)\n",
    "    SIarea = np.array(ds['SIarea'][:])\n",
    "    ds.close()\n",
    "\n",
    "    # subset to first timestep\n",
    "    SIarea = SIarea[0,:,:]\n",
    "\n",
    "    # mask points in the southern ocean\n",
    "    \n",
    "\n",
    "    # compute the total sea ice area\n",
    "    \n",
    "\n",
    "    # add the computed area to the list of sea ice values\n",
    "\n",
    "    "
   ]
  },
  {
   "cell_type": "markdown",
   "id": "4f0ac16e-4709-4222-a6a1-dd61a3eb9af5",
   "metadata": {},
   "source": [
    "Now that we've got our sea ice area timeseries, let's make a plot:"
   ]
  },
  {
   "cell_type": "code",
   "execution_count": null,
   "id": "871f8fc5-1f97-4db7-8bde-995733e859fb",
   "metadata": {},
   "outputs": [],
   "source": [
    "# make a plot of the sea ice timeseries\n",
    "fig = plt.figure(figsize=(8,4))\n",
    "plt.plot(si_area)\n",
    "plt.title('Northern Hemisphere Sea Ice Area')\n",
    "plt.ylabel('Sea ice area (m$^2$)')\n",
    "plt.xlabel('Month since 1992/1')\n",
    "plt.grid(linestyle='--',linewidth=0.5)\n",
    "plt.show()"
   ]
  },
  {
   "cell_type": "markdown",
   "id": "f367d8ce-045c-4875-81d9-7524a11ed404",
   "metadata": {},
   "source": [
    "### Computing Trends\n",
    "How much has sea ice declined in the time period shown above? Let's compute a trend line to determine how much ice is lost during this time period.\n",
    "\n",
    "First things first, we need to define a time array."
   ]
  },
  {
   "cell_type": "code",
   "execution_count": null,
   "id": "d5677cf5-d987-42ee-953f-b52a8d9c278c",
   "metadata": {},
   "outputs": [],
   "source": [
    "# define a time array for months\n",
    "\n",
    "\n",
    "# convert to \"decimal years\"\n"
   ]
  },
  {
   "cell_type": "markdown",
   "id": "9ced7f05-0914-4d81-9a74-a4025cd5ab2f",
   "metadata": {},
   "source": [
    "With the time array in hand, we can now fit a line to the data. To fit a simple trend line, we can use the `polyfit` function from `numpy` with a degree of 1:"
   ]
  },
  {
   "cell_type": "code",
   "execution_count": null,
   "id": "f7248c7d-edb3-44d0-81b4-61bdce657bcc",
   "metadata": {},
   "outputs": [],
   "source": [
    "# compute the line coefficients\n",
    "\n",
    "\n",
    "# print the coefficients\n",
    "\n",
    "\n",
    "# sanity check: one is the slope and one is intercept - which is which?"
   ]
  },
  {
   "cell_type": "markdown",
   "id": "3cecf586-f7dc-4c7a-9849-0590a2a020ba",
   "metadata": {},
   "source": [
    "Let's plot the trend line on the data to ensure it looks as expected:"
   ]
  },
  {
   "cell_type": "code",
   "execution_count": null,
   "id": "3040ba07-46ae-4457-bc18-ecee9b9e80f3",
   "metadata": {},
   "outputs": [],
   "source": [
    "fig = plt.figure(figsize=(8,4))\n",
    "\n",
    "# plot the data\n",
    "plt.plot(years, si_area)\n",
    "\n",
    "# plot the trend line\n",
    "\n",
    "\n",
    "plt.title('Northern Hemisphere Sea Ice Area')\n",
    "plt.ylabel('Sea ice area (m$^2$)')\n",
    "plt.xlabel('Month since 1992/1')\n",
    "plt.grid(linestyle='--',linewidth=0.5)\n",
    "plt.show()"
   ]
  },
  {
   "cell_type": "markdown",
   "id": "c9dde514-f391-44a7-a258-2d65d3c298eb",
   "metadata": {},
   "source": [
    "### Interpreting Trends\n",
    "The slope of the trend line estimates how much the variable is changing through time. Consider the following questions:\n",
    "1. Is northern hemisphere sea ice being lost or gained?\n",
    "2. What are the units of the slope of the trend line?\n",
    "3. What is the equivalent slope in units of square miles? ($1$ mile$^2$ = $2.59 \\times 10^6$ m$^2$)"
   ]
  },
  {
   "cell_type": "code",
   "execution_count": null,
   "id": "95251cc7-242d-4c5a-9b22-11b02c5e915b",
   "metadata": {},
   "outputs": [],
   "source": [
    "# compute the trend in square miles\n",
    "\n",
    "\n",
    "# print out the result\n"
   ]
  },
  {
   "cell_type": "markdown",
   "id": "7d84b39f-c218-4cd2-b31f-65ec54edaa7a",
   "metadata": {},
   "source": [
    "### &#x1F914; Try it yourself\n",
    "How do the trends in the Southern Hemisphere compare to those in the Northern Hemisphere?"
   ]
  },
  {
   "cell_type": "code",
   "execution_count": null,
   "id": "7f982e9a-a87a-4ea1-b845-faa4047c4529",
   "metadata": {},
   "outputs": [],
   "source": [
    "# repeat your code here, but for the southern hemisphere"
   ]
  }
 ],
 "metadata": {
  "kernelspec": {
   "display_name": "cs185c",
   "language": "python",
   "name": "cs185c"
  },
  "language_info": {
   "codemirror_mode": {
    "name": "ipython",
    "version": 3
   },
   "file_extension": ".py",
   "mimetype": "text/x-python",
   "name": "python",
   "nbconvert_exporter": "python",
   "pygments_lexer": "ipython3",
   "version": "3.11.9"
  }
 },
 "nbformat": 4,
 "nbformat_minor": 5
}
