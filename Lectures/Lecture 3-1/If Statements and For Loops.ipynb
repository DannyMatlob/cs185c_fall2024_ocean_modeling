{
 "cells": [
  {
   "cell_type": "markdown",
   "id": "49e61e1c",
   "metadata": {},
   "source": [
    "# If Statements and For Loops"
   ]
  },
  {
   "cell_type": "markdown",
   "id": "0c3a7daa-0a0a-481c-974f-6acd970606db",
   "metadata": {},
   "source": [
    "Learning Objectives:\n",
    "\n",
    "This notebook provides an overview on how to:\n",
    "1. Write `if-elif-else` statements to control decisions within a code block\n",
    "2. Utilize a `for` loop to iterate through a series of objects"
   ]
  },
  {
   "cell_type": "markdown",
   "id": "0d4b0f71",
   "metadata": {},
   "source": [
    "# Part 1: if-elif-else statements"
   ]
  },
  {
   "cell_type": "markdown",
   "id": "acf1e5a8",
   "metadata": {},
   "source": [
    "An `if` statement is a handy piece of code to control whether a given piece of code is going to run. The `if` keyword is followed by a condition that can be interpreted to be True or False, followed by a colon. Below the if statement, all lines to be run when the condition is true are indented using 4 spaces. To end the code block, the indendation is decreased "
   ]
  },
  {
   "cell_type": "code",
   "execution_count": 3,
   "id": "58d5c54f",
   "metadata": {},
   "outputs": [
    {
     "name": "stdout",
     "output_type": "stream",
     "text": [
      "hello\n"
     ]
    }
   ],
   "source": [
    "# write an if statement that will print a statement when a condition is true\n",
    "if (True):\n",
    "    print(\"hello\")"
   ]
  },
  {
   "cell_type": "markdown",
   "id": "d3d65062",
   "metadata": {},
   "source": [
    "Often, we'd like to provide an alternative piece of code if our condition is not met -- this is accomplished with an `else` statement. The `else` keyword is followed by a colon and, similar to the `if` block, the code to be run is indented by 4 spaces."
   ]
  },
  {
   "cell_type": "code",
   "execution_count": 4,
   "id": "dc226d26",
   "metadata": {},
   "outputs": [
    {
     "name": "stdout",
     "output_type": "stream",
     "text": [
      "This value is positive\n"
     ]
    }
   ],
   "source": [
    "# write an if statement that will print a statement when a condition is true\n",
    "# provide an else statement that will run when a statement is false\n",
    "x=5\n",
    "if x>0:\n",
    "    print(\"This value is positive\")\n",
    "else:\n",
    "    print(\"This value is not positive\")"
   ]
  },
  {
   "cell_type": "markdown",
   "id": "90b4c7ca",
   "metadata": {},
   "source": [
    "Similarly, we may want to provide a cascade of options between the first `if` statement and the final `else` statement. In Python, the syntax for these intermediate statements is `elif`."
   ]
  },
  {
   "cell_type": "code",
   "execution_count": null,
   "id": "bd5ee53d",
   "metadata": {},
   "outputs": [],
   "source": [
    "# write an if statement that will print a statement when a condition is true\n",
    "# provide an altertantive elif statment if there first statement is not true\n",
    "# provide an else statement that will run when none of the statements are true\n"
   ]
  },
  {
   "cell_type": "markdown",
   "id": "a0e14d68",
   "metadata": {},
   "source": [
    "### &#x1F914; Mini-Exercise\n",
    "Goal: Write a code block that will provide the name of the day of the week when provided with a number 1-7. For example, when `week_day = 1`, the block should return `Monday`, `week_day = 5`, the block should return `Friday`, etc. If the number is not in the range 1-7, print a statement that indicates the number is invalid."
   ]
  },
  {
   "cell_type": "code",
   "execution_count": null,
   "id": "0240e349-5f01-469b-a277-1f838f95081d",
   "metadata": {},
   "outputs": [],
   "source": [
    "# define the week day number\n",
    "\n",
    "\n",
    "# write if, elif, and else statements to print the name of the\n",
    "# day of the week as described in the markdown cell above\n",
    "\n"
   ]
  },
  {
   "cell_type": "markdown",
   "id": "b55f32f1-1522-4466-8c09-c7ddeb3235fe",
   "metadata": {},
   "source": [
    "# Part 2: For Loops\n",
    "A `for` loop is a convienent piece of code that allows us to run a particular code block on a series of objects. Python provides several ways that `for` loops can be implemented. For example, a `for` loop can be used to iterate over a list:"
   ]
  },
  {
   "cell_type": "code",
   "execution_count": 11,
   "id": "75e3b4b9-5e05-4be6-86da-52d77b1a8e92",
   "metadata": {},
   "outputs": [
    {
     "name": "stdout",
     "output_type": "stream",
     "text": [
      "A\n",
      "B\n",
      "C\n",
      "D\n",
      "E\n"
     ]
    }
   ],
   "source": [
    "# print the letters from the list\n",
    "letters = ['A','B','C','D','E']\n",
    "for letter in letters:\n",
    "    print(letter)"
   ]
  },
  {
   "cell_type": "markdown",
   "id": "eef490e4-1dea-4674-866c-8d280b9e0d19",
   "metadata": {},
   "source": [
    "A `for` loop can also iterate over a range of numbers"
   ]
  },
  {
   "cell_type": "code",
   "execution_count": 13,
   "id": "1478e29b-d8b5-4305-b507-efa6fc382a01",
   "metadata": {},
   "outputs": [
    {
     "name": "stdout",
     "output_type": "stream",
     "text": [
      "0\n",
      "1\n",
      "2\n",
      "3\n",
      "4\n",
      "5\n",
      "6\n",
      "7\n",
      "8\n",
      "9\n",
      "10\n"
     ]
    }
   ],
   "source": [
    "# print all numbers up to 10\n",
    "for i in range(11):\n",
    "    print(i)"
   ]
  },
  {
   "cell_type": "markdown",
   "id": "da0349f8-2252-4645-8ee2-4f452a95386d",
   "metadata": {},
   "source": [
    "In addition, `for` loops can be combined with `if` statements to achieve the power of both types of code blocks. To implement an `if` statement inside a `for` loop, provide another layer of indentation:"
   ]
  },
  {
   "cell_type": "code",
   "execution_count": 14,
   "id": "3a007eaf-3687-4214-bc72-6686cb4e057b",
   "metadata": {},
   "outputs": [
    {
     "name": "stdout",
     "output_type": "stream",
     "text": [
      "0\n",
      "2\n",
      "4\n",
      "6\n",
      "8\n",
      "10\n"
     ]
    }
   ],
   "source": [
    "# print all of the even numbers up to 10\n",
    "for i in range(11):\n",
    "    if i%2==0:\n",
    "        print(i)"
   ]
  },
  {
   "cell_type": "markdown",
   "id": "aba9ba5f",
   "metadata": {},
   "source": [
    "### &#x1F914; Mini-Exercise\n",
    "Goal: Make a list all prime numbers between 2 and 100. A prime number is one which is not divisible by any other number. For example, 5 is prime because all numbers lower than 5 (not including 1) have a non-zero remainder:"
   ]
  },
  {
   "cell_type": "code",
   "execution_count": null,
   "id": "bc89c26e-5ebf-46f1-956d-051883e43c27",
   "metadata": {},
   "outputs": [],
   "source": [
    "print(5%4)\n",
    "print(5%3)\n",
    "print(5%2)"
   ]
  },
  {
   "cell_type": "markdown",
   "id": "b59602bb-9c8b-4d26-a8ea-8feec16645ab",
   "metadata": {},
   "source": [
    "On the other hand, 6 is not prime because it has a zero-divisor:"
   ]
  },
  {
   "cell_type": "code",
   "execution_count": null,
   "id": "0ec03801-4428-4797-a132-f122afdda6cf",
   "metadata": {},
   "outputs": [],
   "source": [
    "print(6%3)"
   ]
  },
  {
   "cell_type": "markdown",
   "id": "fa93b81d-be16-405d-a972-983c6e86b8ad",
   "metadata": {},
   "source": [
    "For this exercise, use `for` loops and `if` statements to test whether each number between 2 and 100 is prime. If it's prime, then add it to a list called `prime_numbers`. At the end of your code, print out the list."
   ]
  },
  {
   "cell_type": "code",
   "execution_count": 23,
   "id": "c7cdae49-11f4-4dbd-8ce5-ae7c15d365a9",
   "metadata": {},
   "outputs": [
    {
     "name": "stdout",
     "output_type": "stream",
     "text": [
      "2\n",
      "3\n",
      "5\n",
      "7\n",
      "11\n",
      "13\n",
      "17\n",
      "19\n",
      "23\n",
      "29\n",
      "31\n",
      "37\n",
      "41\n",
      "43\n",
      "47\n",
      "53\n",
      "59\n",
      "61\n",
      "67\n",
      "71\n",
      "73\n",
      "79\n",
      "83\n",
      "89\n",
      "97\n"
     ]
    }
   ],
   "source": [
    "# write code to make a list of prime numbers between 2 and 100\n",
    "for i in range(2,101):\n",
    "    prime = True\n",
    "    for j in range(2,i):\n",
    "        if((i%j)==0):\n",
    "            prime = False\n",
    "    if prime:\n",
    "        print(i)"
   ]
  },
  {
   "cell_type": "code",
   "execution_count": null,
   "id": "c92c818f-f3c9-437a-a41d-b33dbc663321",
   "metadata": {},
   "outputs": [],
   "source": []
  }
 ],
 "metadata": {
  "kernelspec": {
   "display_name": "cs185c",
   "language": "python",
   "name": "cs185c"
  },
  "language_info": {
   "codemirror_mode": {
    "name": "ipython",
    "version": 3
   },
   "file_extension": ".py",
   "mimetype": "text/x-python",
   "name": "python",
   "nbconvert_exporter": "python",
   "pygments_lexer": "ipython3",
   "version": "3.11.9"
  }
 },
 "nbformat": 4,
 "nbformat_minor": 5
}
